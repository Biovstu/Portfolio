{
 "cells": [
  {
   "cell_type": "code",
   "execution_count": 1,
   "id": "af481eb5",
   "metadata": {},
   "outputs": [],
   "source": [
    "import urllib.request\n",
    "import pandas as pd\n",
    "from statsmodels.tsa.ar_model import AutoReg"
   ]
  },
  {
   "cell_type": "markdown",
   "id": "180a4592",
   "metadata": {},
   "source": [
    "Сохранаяем исходные данные из Гугл-таблиц в файл xlsx"
   ]
  },
  {
   "cell_type": "code",
   "execution_count": 2,
   "id": "f4d8b133",
   "metadata": {},
   "outputs": [
    {
     "name": "stdout",
     "output_type": "stream",
     "text": [
      "Начинаем обновление источника\n",
      "1 из 8 - Загружаем файл по ссылке\n",
      "Файл по ссылке загружен\n"
     ]
    }
   ],
   "source": [
    "print('Начинаем обновление источника')\n",
    "print('1 из 8 - Загружаем файл по ссылке')\n",
    "destination = 'C:\\\\Users\\\\gehor\\\\OneDrive\\\\Документы\\\\BI\\\\Итоговая контрольная работа по блоку специализация\\\\source.xlsx'\n",
    "url = 'https://docs.google.com/spreadsheets/d/152JyksagijqyscnrFDc6Ez2VjT5MKNXpDOyc4PRlauw/edit#gid=208646510'\n",
    "url = url.replace('edit#gid=208646510', 'export?format=xlsx')\n",
    "urllib.request.urlretrieve(url, destination)\n",
    "print('Файл по ссылке загружен')"
   ]
  },
  {
   "cell_type": "markdown",
   "id": "afa47933",
   "metadata": {},
   "source": [
    "Читаем листы из листа xlsx в таблицы"
   ]
  },
  {
   "cell_type": "code",
   "execution_count": 3,
   "id": "52874218",
   "metadata": {},
   "outputs": [
    {
     "name": "stdout",
     "output_type": "stream",
     "text": [
      "2 из 8 - Читаем из файла данные\n",
      "Данные загружены\n"
     ]
    }
   ],
   "source": [
    "print('2 из 8 - Читаем из файла данные')\n",
    "marketing = pd.read_excel(destination, sheet_name='Маркетинговые данные')\n",
    "spravka = pd.read_excel(destination, sheet_name='Справочник')\n",
    "crm = pd.read_excel(destination, sheet_name='Данные из CRM')\n",
    "print('Данные загружены')"
   ]
  },
  {
   "cell_type": "markdown",
   "id": "bfb20dad",
   "metadata": {},
   "source": [
    "Собираем уникальные записи ID пользователей<p>\n",
    "И собираем касания по Device Category"
   ]
  },
  {
   "cell_type": "code",
   "execution_count": 4,
   "id": "31a85991",
   "metadata": {},
   "outputs": [
    {
     "name": "stdout",
     "output_type": "stream",
     "text": [
      "3 из 8 - Считаем касания\n",
      "Касания определены\n"
     ]
    }
   ],
   "source": [
    "print('3 из 8 - Считаем касания')\n",
    "clients = marketing['Client ID'].unique()\n",
    "touch = []\n",
    "conversion_rate = []\n",
    "qty_touch = []\n",
    "touchings = pd.DataFrame({})\n",
    "for key in clients:\n",
    "    lst = list(marketing[marketing['Client ID'] == key]['Device Category'])\n",
    "    touch.append('=>'.join(lst))\n",
    "    qty_touch.append(len(lst))\n",
    "    conversion_rate.append(sum(list(marketing[marketing['Client ID'] == key]['Goal Conversion Rate'])))\n",
    "touchings['Client ID'] = clients\n",
    "touchings['Touch'] = touch\n",
    "touchings['QTY Touch'] = qty_touch\n",
    "touchings['Conversion Rate'] = conversion_rate\n",
    "touchings['Conversion'] = touchings['Conversion Rate'].apply(lambda x: 1 if x > 0 else 0)\n",
    "print('Касания определены')"
   ]
  },
  {
   "cell_type": "markdown",
   "id": "2287c304",
   "metadata": {},
   "source": [
    "Разделяем поле Domain на 1.1, 1.2, 2, 3"
   ]
  },
  {
   "cell_type": "code",
   "execution_count": 5,
   "id": "8f2ac03e",
   "metadata": {},
   "outputs": [
    {
     "name": "stdout",
     "output_type": "stream",
     "text": [
      "4 из 8 - Раскрываем домен\n",
      "Домен раскрыт\n"
     ]
    }
   ],
   "source": [
    "def dom(field):\n",
    "    tmp = field.split('-')\n",
    "    domains = []\n",
    "    domains.append(tmp[1])\n",
    "    if len(tmp) > 2:\n",
    "        domains.append(tmp[2])\n",
    "    else:\n",
    "        domains.append('')\n",
    "    if '.' in tmp[0]:\n",
    "        domains += tmp[0].split('.')\n",
    "    else:\n",
    "        domains.append(tmp[0])\n",
    "        domains.append('')\n",
    "    return domains\n",
    "print('4 из 8 - Раскрываем домен')\n",
    "marketing['Domain.2'] = marketing['Domain'].apply(lambda x: dom(x)[0])\n",
    "marketing['Domain.3'] = marketing['Domain'].apply(lambda x: dom(x)[1])\n",
    "marketing['Domain.1.1'] = marketing['Domain'].apply(lambda x: dom(x)[2])\n",
    "marketing['Domain.1.2'] = marketing['Domain'].apply(lambda x: dom(x)[3])\n",
    "# marketing\n",
    "print('Домен раскрыт')"
   ]
  },
  {
   "cell_type": "markdown",
   "id": "234e862d",
   "metadata": {},
   "source": [
    "Определяем марку по полям Domain 1.1 и 1.2"
   ]
  },
  {
   "cell_type": "code",
   "execution_count": 6,
   "id": "fd664842",
   "metadata": {
    "scrolled": true
   },
   "outputs": [
    {
     "name": "stdout",
     "output_type": "stream",
     "text": [
      "5 из 8 - Определяем марку и модель\n"
     ]
    }
   ],
   "source": [
    "print('5 из 8 - Определяем марку и модель')\n",
    "marketing['Марка'] = marketing['Domain.1.2']\n",
    "marketing.loc[marketing['Марка'] == '', 'Марка'] = marketing.loc[marketing['Марка'] == '', 'Domain.1.1']\n",
    "# marketing"
   ]
  },
  {
   "cell_type": "markdown",
   "id": "833e05e9",
   "metadata": {},
   "source": [
    "Ищем упоминание любой модели из справочника в поле Goal Completion Location<p>\n",
    "Если есть, то это является моделью для данной записи"
   ]
  },
  {
   "cell_type": "code",
   "execution_count": 7,
   "id": "cd57371d",
   "metadata": {
    "scrolled": false
   },
   "outputs": [
    {
     "name": "stdout",
     "output_type": "stream",
     "text": [
      "Марка и модель определены\n"
     ]
    }
   ],
   "source": [
    "models = spravka['Модель']\n",
    "def model(field):\n",
    "    tmp = ''\n",
    "    for i in models:\n",
    "        if str(i) in field:\n",
    "            tmp = str(i)\n",
    "    return tmp\n",
    "marketing['Модель'] = marketing['Goal Completion Location'].apply(model)\n",
    "# marketing\n",
    "print('Марка и модель определены')"
   ]
  },
  {
   "cell_type": "markdown",
   "id": "469b8b84",
   "metadata": {},
   "source": [
    "Подготовливаем Прайс-лист"
   ]
  },
  {
   "cell_type": "code",
   "execution_count": 8,
   "id": "3881c7f3",
   "metadata": {},
   "outputs": [
    {
     "name": "stdout",
     "output_type": "stream",
     "text": [
      "6 из 8 - Добавляем стоимость авто\n"
     ]
    }
   ],
   "source": [
    "print('6 из 8 - Добавляем стоимость авто')\n",
    "price_list = pd.DataFrame({})\n",
    "price_list['Модель'] = spravka['Модель']\n",
    "price_list['Цена'] = spravka['Цена']\n",
    "# price_list"
   ]
  },
  {
   "cell_type": "markdown",
   "id": "f6d523a7",
   "metadata": {},
   "source": [
    "Добавляем стоимость"
   ]
  },
  {
   "cell_type": "code",
   "execution_count": 9,
   "id": "5b965e48",
   "metadata": {
    "scrolled": true
   },
   "outputs": [
    {
     "name": "stdout",
     "output_type": "stream",
     "text": [
      "Стоимость авто добавлено\n"
     ]
    }
   ],
   "source": [
    "marketing = marketing.merge(price_list, how='left', on='Модель')\n",
    "marketing.rename(columns={'Цена':'Стоимость'}, inplace=True)\n",
    "print('Стоимость авто добавлено')"
   ]
  },
  {
   "cell_type": "code",
   "execution_count": 10,
   "id": "99b6e22f",
   "metadata": {},
   "outputs": [],
   "source": [
    "crm.rename(columns={'Город':'City', 'Приход к диллеру':'Приход к дилеру'}, inplace=True)\n",
    "crm.loc[(crm['Просчет стоимости модели'].isnull() | (crm['Просчет стоимости модели'] == '-')),['Просчет стоимости модели']] = 0\n",
    "crm.loc[(crm['Приход к дилеру'].isnull() | (crm['Приход к дилеру'] == '-')),['Приход к дилеру']] = 0\n",
    "crm.loc[(crm['Продажа'].isnull() | (crm['Продажа'] == '-') | (crm['Продажа'] == 'Нет данных')),['Продажа']] = 0\n",
    "crm['ID+City'] = crm['Client ID'] + '+' + crm['City']\n",
    "crm['Продажа'] = crm['Продажа'].astype('int64')\n",
    "crm_sales = pd.pivot_table(crm, values='Продажа', index='ID+City', aggfunc=sum).reset_index()\n",
    "marketing['ID+City'] = marketing['Client ID'] + '+' + marketing['City']\n",
    "marketing = marketing.merge(crm_sales, how='left', on='ID+City')\n",
    "marketing.loc[marketing['Модель'] == '', 'Продажа'] = 0\n",
    "marketing.drop(columns='ID+City', inplace = True)"
   ]
  },
  {
   "cell_type": "code",
   "execution_count": 12,
   "id": "9f7bc28e",
   "metadata": {},
   "outputs": [
    {
     "name": "stdout",
     "output_type": "stream",
     "text": [
      "7 из 8 - Расчитаем прогноз\n",
      "Прогноз готов\n"
     ]
    }
   ],
   "source": [
    "print('7 из 8 - Расчитаем прогноз')\n",
    "forecast = marketing[['Date', 'Конверсия']]\n",
    "forecast = pd.pivot_table(forecast, values='Конверсия', index='Date', aggfunc=sum).reset_index()\n",
    "forecast['Day'] = forecast['Date'].apply(lambda x: x.split(' ')[0])\n",
    "forecast['Month'] = forecast['Date'].apply(lambda x: x.split(' ')[1])\n",
    "forecast['Year'] = forecast['Date'].apply(lambda x: x.split(' ')[2])\n",
    "forecast['Month'].replace({'января':'1','февраля':'2'}, inplace=True)\n",
    "forecast['Year'] = forecast['Year'].astype('int64')\n",
    "forecast['Month'] = forecast['Month'].astype('int64')\n",
    "forecast['Day'] = forecast['Day'].astype('int64')\n",
    "forecast['Факт/Прогноз'] = 'Факт'\n",
    "forecast.sort_values(['Year', 'Month', 'Day'], axis=0, inplace=True, ignore_index=True)\n",
    "conversion = forecast['Конверсия']\n",
    "conv_forcast = model = AutoReg(conversion, lags=12).fit().forecast(steps=12)\n",
    "conv_forcast = pd.DataFrame(conv_forcast)\n",
    "conv_forcast.rename(columns={0: 'Конверсия'}, inplace=True)\n",
    "conv_forcast['Year'] = 2020\n",
    "conv_forcast['Month'] = 2\n",
    "conv_forcast['Факт/Прогноз'] = 'Прогноз'\n",
    "conv_forcast['Day'] = conv_forcast.index - 30\n",
    "conv_forcast['Date'] = conv_forcast['Day'].astype('str').apply(lambda x: x + ' февраля 2020 г.')\n",
    "forecast = pd.concat([forecast, conv_forcast])\n",
    "print('Прогноз готов')"
   ]
  },
  {
   "cell_type": "markdown",
   "id": "65c0d17d",
   "metadata": {},
   "source": [
    "Перезаписываем исходный файл с 4мя обновленными листами"
   ]
  },
  {
   "cell_type": "code",
   "execution_count": 13,
   "id": "dee613b1",
   "metadata": {},
   "outputs": [
    {
     "name": "stdout",
     "output_type": "stream",
     "text": [
      "8 из 8 - Записываем данные в источник\n",
      "Источник обновлен\n"
     ]
    }
   ],
   "source": [
    "print('8 из 8 - Записываем данные в источник')\n",
    "with pd.ExcelWriter(destination) as writer:\n",
    "    touchings.to_excel(writer, sheet_name='Касания', index=False)\n",
    "    crm.to_excel(writer, sheet_name='Данные из CRM', index=False)\n",
    "    spravka.to_excel(writer, sheet_name='Справочник', index=False)\n",
    "    marketing.to_excel(writer, sheet_name='Маркетинговые данные', index=False)\n",
    "    forecast.to_excel(writer, sheet_name='Прогноз', index=False)\n",
    "print('Источник обновлен')"
   ]
  }
 ],
 "metadata": {
  "kernelspec": {
   "display_name": "Python 3 (ipykernel)",
   "language": "python",
   "name": "python3"
  },
  "language_info": {
   "codemirror_mode": {
    "name": "ipython",
    "version": 3
   },
   "file_extension": ".py",
   "mimetype": "text/x-python",
   "name": "python",
   "nbconvert_exporter": "python",
   "pygments_lexer": "ipython3",
   "version": "3.10.11"
  }
 },
 "nbformat": 4,
 "nbformat_minor": 5
}
