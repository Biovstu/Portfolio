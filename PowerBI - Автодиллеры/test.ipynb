{
 "cells": [
  {
   "cell_type": "markdown",
   "metadata": {
    "id": "P8x5TKkEiz3H"
   },
   "source": [
    "# A/B tests с Python\n",
    "\n"
   ]
  },
  {
   "cell_type": "markdown",
   "metadata": {
    "id": "3rFDZCpXiz3K"
   },
   "source": [
    "\n",
    "<a id=\"Libraries\"></a>\n",
    "##  Загрузка библиотек "
   ]
  },
  {
   "cell_type": "code",
   "execution_count": 1,
   "metadata": {
    "id": "squsMqBBiz3M"
   },
   "outputs": [],
   "source": [
    "from math import asin\n",
    "from typing import Union\n",
    "\n",
    "\n",
    "import pandas as pd\n",
    "import numpy as np\n",
    "\n",
    "from scipy import stats\n",
    "from statsmodels.stats.meta_analysis import effectsize_smd\n",
    "from statsmodels.stats import proportion\n",
    "from statsmodels.stats.power import tt_ind_solve_power\n",
    "from statsmodels.stats.power import zt_ind_solve_power"
   ]
  },
  {
   "cell_type": "markdown",
   "metadata": {
    "id": "kL2JLgNCMHlB"
   },
   "source": [
    "# Поработаем с датасетом c покупками"
   ]
  },
  {
   "cell_type": "markdown",
   "metadata": {
    "id": "oVKHHkxyMWzC"
   },
   "source": [
    "# Подготовка данных"
   ]
  },
  {
   "cell_type": "code",
   "execution_count": 2,
   "metadata": {
    "colab": {
     "base_uri": "https://localhost:8080/",
     "height": 380
    },
    "id": "irWHhzcdvDKP",
    "outputId": "dadbaa11-92e2-49d4-deac-090953ce6142"
   },
   "outputs": [
    {
     "data": {
      "text/html": [
       "<div>\n",
       "<style scoped>\n",
       "    .dataframe tbody tr th:only-of-type {\n",
       "        vertical-align: middle;\n",
       "    }\n",
       "\n",
       "    .dataframe tbody tr th {\n",
       "        vertical-align: top;\n",
       "    }\n",
       "\n",
       "    .dataframe thead th {\n",
       "        text-align: right;\n",
       "    }\n",
       "</style>\n",
       "<table border=\"1\" class=\"dataframe\">\n",
       "  <thead>\n",
       "    <tr style=\"text-align: right;\">\n",
       "      <th></th>\n",
       "      <th>revenue</th>\n",
       "      <th>num_purchases</th>\n",
       "      <th>purchase</th>\n",
       "      <th>ab_group</th>\n",
       "      <th>av_site visit</th>\n",
       "    </tr>\n",
       "  </thead>\n",
       "  <tbody>\n",
       "    <tr>\n",
       "      <th>0</th>\n",
       "      <td>0.0</td>\n",
       "      <td>0</td>\n",
       "      <td>0</td>\n",
       "      <td>A</td>\n",
       "      <td>9.040174</td>\n",
       "    </tr>\n",
       "    <tr>\n",
       "      <th>1</th>\n",
       "      <td>0.0</td>\n",
       "      <td>0</td>\n",
       "      <td>0</td>\n",
       "      <td>A</td>\n",
       "      <td>4.811628</td>\n",
       "    </tr>\n",
       "    <tr>\n",
       "      <th>2</th>\n",
       "      <td>0.0</td>\n",
       "      <td>0</td>\n",
       "      <td>0</td>\n",
       "      <td>A</td>\n",
       "      <td>7.342623</td>\n",
       "    </tr>\n",
       "    <tr>\n",
       "      <th>3</th>\n",
       "      <td>0.0</td>\n",
       "      <td>0</td>\n",
       "      <td>0</td>\n",
       "      <td>A</td>\n",
       "      <td>7.744581</td>\n",
       "    </tr>\n",
       "    <tr>\n",
       "      <th>4</th>\n",
       "      <td>0.0</td>\n",
       "      <td>0</td>\n",
       "      <td>0</td>\n",
       "      <td>A</td>\n",
       "      <td>10.511814</td>\n",
       "    </tr>\n",
       "    <tr>\n",
       "      <th>5</th>\n",
       "      <td>0.0</td>\n",
       "      <td>0</td>\n",
       "      <td>0</td>\n",
       "      <td>A</td>\n",
       "      <td>9.578727</td>\n",
       "    </tr>\n",
       "    <tr>\n",
       "      <th>6</th>\n",
       "      <td>0.0</td>\n",
       "      <td>0</td>\n",
       "      <td>0</td>\n",
       "      <td>A</td>\n",
       "      <td>6.162601</td>\n",
       "    </tr>\n",
       "    <tr>\n",
       "      <th>7</th>\n",
       "      <td>0.0</td>\n",
       "      <td>0</td>\n",
       "      <td>0</td>\n",
       "      <td>A</td>\n",
       "      <td>11.909452</td>\n",
       "    </tr>\n",
       "    <tr>\n",
       "      <th>8</th>\n",
       "      <td>0.0</td>\n",
       "      <td>0</td>\n",
       "      <td>0</td>\n",
       "      <td>A</td>\n",
       "      <td>6.540910</td>\n",
       "    </tr>\n",
       "    <tr>\n",
       "      <th>9</th>\n",
       "      <td>0.0</td>\n",
       "      <td>0</td>\n",
       "      <td>0</td>\n",
       "      <td>A</td>\n",
       "      <td>7.990794</td>\n",
       "    </tr>\n",
       "  </tbody>\n",
       "</table>\n",
       "</div>"
      ],
      "text/plain": [
       "   revenue  num_purchases  purchase ab_group  av_site visit\n",
       "0      0.0              0         0        A       9.040174\n",
       "1      0.0              0         0        A       4.811628\n",
       "2      0.0              0         0        A       7.342623\n",
       "3      0.0              0         0        A       7.744581\n",
       "4      0.0              0         0        A      10.511814\n",
       "5      0.0              0         0        A       9.578727\n",
       "6      0.0              0         0        A       6.162601\n",
       "7      0.0              0         0        A      11.909452\n",
       "8      0.0              0         0        A       6.540910\n",
       "9      0.0              0         0        A       7.990794"
      ]
     },
     "execution_count": 2,
     "metadata": {},
     "output_type": "execute_result"
    }
   ],
   "source": [
    "data = pd.read_csv('ab_stats.csv')\n",
    "\n",
    "data.head(10)"
   ]
  },
  {
   "cell_type": "code",
   "execution_count": 3,
   "metadata": {
    "id": "I8xrSR3sMdfW"
   },
   "outputs": [
    {
     "name": "stdout",
     "output_type": "stream",
     "text": [
      "<class 'pandas.core.frame.DataFrame'>\n",
      "RangeIndex: 23652 entries, 0 to 23651\n",
      "Data columns (total 5 columns):\n",
      " #   Column         Non-Null Count  Dtype  \n",
      "---  ------         --------------  -----  \n",
      " 0   revenue        23652 non-null  float64\n",
      " 1   num_purchases  23652 non-null  int64  \n",
      " 2   purchase       23652 non-null  int64  \n",
      " 3   ab_group       23652 non-null  object \n",
      " 4   av_site visit  23652 non-null  float64\n",
      "dtypes: float64(2), int64(2), object(1)\n",
      "memory usage: 924.0+ KB\n"
     ]
    }
   ],
   "source": [
    "data.info()"
   ]
  },
  {
   "cell_type": "code",
   "execution_count": 4,
   "metadata": {
    "id": "l5-MmmPWp5XO"
   },
   "outputs": [
    {
     "data": {
      "text/plain": [
       "(23652, 5)"
      ]
     },
     "execution_count": 4,
     "metadata": {},
     "output_type": "execute_result"
    }
   ],
   "source": [
    "data.shape"
   ]
  },
  {
   "cell_type": "code",
   "execution_count": 5,
   "metadata": {
    "id": "_zTWERpHMdiS"
   },
   "outputs": [
    {
     "data": {
      "text/html": [
       "<div>\n",
       "<style scoped>\n",
       "    .dataframe tbody tr th:only-of-type {\n",
       "        vertical-align: middle;\n",
       "    }\n",
       "\n",
       "    .dataframe tbody tr th {\n",
       "        vertical-align: top;\n",
       "    }\n",
       "\n",
       "    .dataframe thead th {\n",
       "        text-align: right;\n",
       "    }\n",
       "</style>\n",
       "<table border=\"1\" class=\"dataframe\">\n",
       "  <thead>\n",
       "    <tr style=\"text-align: right;\">\n",
       "      <th></th>\n",
       "      <th>revenue</th>\n",
       "      <th>num_purchases</th>\n",
       "      <th>purchase</th>\n",
       "      <th>av_site visit</th>\n",
       "    </tr>\n",
       "  </thead>\n",
       "  <tbody>\n",
       "    <tr>\n",
       "      <th>count</th>\n",
       "      <td>23652.000000</td>\n",
       "      <td>23652.000000</td>\n",
       "      <td>23652.000000</td>\n",
       "      <td>23652.000000</td>\n",
       "    </tr>\n",
       "    <tr>\n",
       "      <th>mean</th>\n",
       "      <td>0.324689</td>\n",
       "      <td>0.043590</td>\n",
       "      <td>0.020717</td>\n",
       "      <td>7.013112</td>\n",
       "    </tr>\n",
       "    <tr>\n",
       "      <th>std</th>\n",
       "      <td>9.557730</td>\n",
       "      <td>1.079403</td>\n",
       "      <td>0.142438</td>\n",
       "      <td>3.154584</td>\n",
       "    </tr>\n",
       "    <tr>\n",
       "      <th>min</th>\n",
       "      <td>0.000000</td>\n",
       "      <td>0.000000</td>\n",
       "      <td>0.000000</td>\n",
       "      <td>-12.073486</td>\n",
       "    </tr>\n",
       "    <tr>\n",
       "      <th>25%</th>\n",
       "      <td>0.000000</td>\n",
       "      <td>0.000000</td>\n",
       "      <td>0.000000</td>\n",
       "      <td>5.173787</td>\n",
       "    </tr>\n",
       "    <tr>\n",
       "      <th>50%</th>\n",
       "      <td>0.000000</td>\n",
       "      <td>0.000000</td>\n",
       "      <td>0.000000</td>\n",
       "      <td>7.007936</td>\n",
       "    </tr>\n",
       "    <tr>\n",
       "      <th>75%</th>\n",
       "      <td>0.000000</td>\n",
       "      <td>0.000000</td>\n",
       "      <td>0.000000</td>\n",
       "      <td>8.864119</td>\n",
       "    </tr>\n",
       "    <tr>\n",
       "      <th>max</th>\n",
       "      <td>1303.609284</td>\n",
       "      <td>152.000000</td>\n",
       "      <td>1.000000</td>\n",
       "      <td>22.446822</td>\n",
       "    </tr>\n",
       "  </tbody>\n",
       "</table>\n",
       "</div>"
      ],
      "text/plain": [
       "            revenue  num_purchases      purchase  av_site visit\n",
       "count  23652.000000   23652.000000  23652.000000   23652.000000\n",
       "mean       0.324689       0.043590      0.020717       7.013112\n",
       "std        9.557730       1.079403      0.142438       3.154584\n",
       "min        0.000000       0.000000      0.000000     -12.073486\n",
       "25%        0.000000       0.000000      0.000000       5.173787\n",
       "50%        0.000000       0.000000      0.000000       7.007936\n",
       "75%        0.000000       0.000000      0.000000       8.864119\n",
       "max     1303.609284     152.000000      1.000000      22.446822"
      ]
     },
     "execution_count": 5,
     "metadata": {},
     "output_type": "execute_result"
    }
   ],
   "source": [
    "data.describe()"
   ]
  },
  {
   "cell_type": "markdown",
   "metadata": {
    "id": "QKQUi9a3w-bO"
   },
   "source": [
    "Посмотрим на группы отдельно"
   ]
  },
  {
   "cell_type": "code",
   "execution_count": 6,
   "metadata": {},
   "outputs": [],
   "source": [
    "control = data[data['ab_group'] == 'A'].copy(deep=True)\n",
    "treatment = data[data['ab_group'] == 'B'].copy(deep=True)"
   ]
  },
  {
   "cell_type": "code",
   "execution_count": 7,
   "metadata": {
    "id": "XXmqrLLGvM2Q"
   },
   "outputs": [
    {
     "data": {
      "text/html": [
       "<div>\n",
       "<style scoped>\n",
       "    .dataframe tbody tr th:only-of-type {\n",
       "        vertical-align: middle;\n",
       "    }\n",
       "\n",
       "    .dataframe tbody tr th {\n",
       "        vertical-align: top;\n",
       "    }\n",
       "\n",
       "    .dataframe thead th {\n",
       "        text-align: right;\n",
       "    }\n",
       "</style>\n",
       "<table border=\"1\" class=\"dataframe\">\n",
       "  <thead>\n",
       "    <tr style=\"text-align: right;\">\n",
       "      <th></th>\n",
       "      <th>revenue</th>\n",
       "      <th>num_purchases</th>\n",
       "      <th>purchase</th>\n",
       "      <th>av_site visit</th>\n",
       "    </tr>\n",
       "  </thead>\n",
       "  <tbody>\n",
       "    <tr>\n",
       "      <th>count</th>\n",
       "      <td>11835.000000</td>\n",
       "      <td>11835.000000</td>\n",
       "      <td>11835.000000</td>\n",
       "      <td>11835.000000</td>\n",
       "    </tr>\n",
       "    <tr>\n",
       "      <th>mean</th>\n",
       "      <td>0.404462</td>\n",
       "      <td>0.050697</td>\n",
       "      <td>0.021631</td>\n",
       "      <td>6.974724</td>\n",
       "    </tr>\n",
       "    <tr>\n",
       "      <th>std</th>\n",
       "      <td>13.133218</td>\n",
       "      <td>1.467511</td>\n",
       "      <td>0.145481</td>\n",
       "      <td>2.023533</td>\n",
       "    </tr>\n",
       "    <tr>\n",
       "      <th>min</th>\n",
       "      <td>0.000000</td>\n",
       "      <td>0.000000</td>\n",
       "      <td>0.000000</td>\n",
       "      <td>-12.073486</td>\n",
       "    </tr>\n",
       "    <tr>\n",
       "      <th>25%</th>\n",
       "      <td>0.000000</td>\n",
       "      <td>0.000000</td>\n",
       "      <td>0.000000</td>\n",
       "      <td>5.656155</td>\n",
       "    </tr>\n",
       "    <tr>\n",
       "      <th>50%</th>\n",
       "      <td>0.000000</td>\n",
       "      <td>0.000000</td>\n",
       "      <td>0.000000</td>\n",
       "      <td>6.982329</td>\n",
       "    </tr>\n",
       "    <tr>\n",
       "      <th>75%</th>\n",
       "      <td>0.000000</td>\n",
       "      <td>0.000000</td>\n",
       "      <td>0.000000</td>\n",
       "      <td>8.345572</td>\n",
       "    </tr>\n",
       "    <tr>\n",
       "      <th>max</th>\n",
       "      <td>1303.609284</td>\n",
       "      <td>152.000000</td>\n",
       "      <td>1.000000</td>\n",
       "      <td>17.728836</td>\n",
       "    </tr>\n",
       "  </tbody>\n",
       "</table>\n",
       "</div>"
      ],
      "text/plain": [
       "            revenue  num_purchases      purchase  av_site visit\n",
       "count  11835.000000   11835.000000  11835.000000   11835.000000\n",
       "mean       0.404462       0.050697      0.021631       6.974724\n",
       "std       13.133218       1.467511      0.145481       2.023533\n",
       "min        0.000000       0.000000      0.000000     -12.073486\n",
       "25%        0.000000       0.000000      0.000000       5.656155\n",
       "50%        0.000000       0.000000      0.000000       6.982329\n",
       "75%        0.000000       0.000000      0.000000       8.345572\n",
       "max     1303.609284     152.000000      1.000000      17.728836"
      ]
     },
     "execution_count": 7,
     "metadata": {},
     "output_type": "execute_result"
    }
   ],
   "source": [
    "control.describe()"
   ]
  },
  {
   "cell_type": "code",
   "execution_count": 8,
   "metadata": {
    "id": "jxupRRjSvM5M"
   },
   "outputs": [
    {
     "data": {
      "text/html": [
       "<div>\n",
       "<style scoped>\n",
       "    .dataframe tbody tr th:only-of-type {\n",
       "        vertical-align: middle;\n",
       "    }\n",
       "\n",
       "    .dataframe tbody tr th {\n",
       "        vertical-align: top;\n",
       "    }\n",
       "\n",
       "    .dataframe thead th {\n",
       "        text-align: right;\n",
       "    }\n",
       "</style>\n",
       "<table border=\"1\" class=\"dataframe\">\n",
       "  <thead>\n",
       "    <tr style=\"text-align: right;\">\n",
       "      <th></th>\n",
       "      <th>revenue</th>\n",
       "      <th>num_purchases</th>\n",
       "      <th>purchase</th>\n",
       "      <th>av_site visit</th>\n",
       "    </tr>\n",
       "  </thead>\n",
       "  <tbody>\n",
       "    <tr>\n",
       "      <th>count</th>\n",
       "      <td>11817.000000</td>\n",
       "      <td>11817.000000</td>\n",
       "      <td>11817.000000</td>\n",
       "      <td>11817.000000</td>\n",
       "    </tr>\n",
       "    <tr>\n",
       "      <th>mean</th>\n",
       "      <td>0.244794</td>\n",
       "      <td>0.036473</td>\n",
       "      <td>0.019802</td>\n",
       "      <td>7.051559</td>\n",
       "    </tr>\n",
       "    <tr>\n",
       "      <th>std</th>\n",
       "      <td>3.176534</td>\n",
       "      <td>0.418480</td>\n",
       "      <td>0.139325</td>\n",
       "      <td>3.976799</td>\n",
       "    </tr>\n",
       "    <tr>\n",
       "      <th>min</th>\n",
       "      <td>0.000000</td>\n",
       "      <td>0.000000</td>\n",
       "      <td>0.000000</td>\n",
       "      <td>-8.286822</td>\n",
       "    </tr>\n",
       "    <tr>\n",
       "      <th>25%</th>\n",
       "      <td>0.000000</td>\n",
       "      <td>0.000000</td>\n",
       "      <td>0.000000</td>\n",
       "      <td>4.380984</td>\n",
       "    </tr>\n",
       "    <tr>\n",
       "      <th>50%</th>\n",
       "      <td>0.000000</td>\n",
       "      <td>0.000000</td>\n",
       "      <td>0.000000</td>\n",
       "      <td>7.060873</td>\n",
       "    </tr>\n",
       "    <tr>\n",
       "      <th>75%</th>\n",
       "      <td>0.000000</td>\n",
       "      <td>0.000000</td>\n",
       "      <td>0.000000</td>\n",
       "      <td>9.768648</td>\n",
       "    </tr>\n",
       "    <tr>\n",
       "      <th>max</th>\n",
       "      <td>113.830000</td>\n",
       "      <td>25.000000</td>\n",
       "      <td>1.000000</td>\n",
       "      <td>22.446822</td>\n",
       "    </tr>\n",
       "  </tbody>\n",
       "</table>\n",
       "</div>"
      ],
      "text/plain": [
       "            revenue  num_purchases      purchase  av_site visit\n",
       "count  11817.000000   11817.000000  11817.000000   11817.000000\n",
       "mean       0.244794       0.036473      0.019802       7.051559\n",
       "std        3.176534       0.418480      0.139325       3.976799\n",
       "min        0.000000       0.000000      0.000000      -8.286822\n",
       "25%        0.000000       0.000000      0.000000       4.380984\n",
       "50%        0.000000       0.000000      0.000000       7.060873\n",
       "75%        0.000000       0.000000      0.000000       9.768648\n",
       "max      113.830000      25.000000      1.000000      22.446822"
      ]
     },
     "execution_count": 8,
     "metadata": {},
     "output_type": "execute_result"
    }
   ],
   "source": [
    "treatment.describe()"
   ]
  },
  {
   "cell_type": "markdown",
   "metadata": {
    "id": "eGwqKXIuxHRD"
   },
   "source": [
    "Пока мы еще ничего не посчитали, но уже можно заметить, что максимальный чек в первой группе сильно больше, чем в группе B. Все мы знаем, что среднее очень неустойчиво к выбросам, так что нам необходимо будет это учесть."
   ]
  },
  {
   "cell_type": "markdown",
   "metadata": {
    "id": "sTDYCs3OxRn8"
   },
   "source": [
    "# Проверка на нормальность распределения и применение статистических критериев"
   ]
  },
  {
   "cell_type": "code",
   "execution_count": 9,
   "metadata": {},
   "outputs": [],
   "source": [
    "def is_normal_distr(x):\n",
    "    \n",
    "    if x.size < 5_000:\n",
    "        _, pvalue = stats.shapiro(x)\n",
    "    else:\n",
    "        _, pvalue = stats.kstest(x, 'norm')\n",
    "        \n",
    "    return pvalue"
   ]
  },
  {
   "cell_type": "code",
   "execution_count": 10,
   "metadata": {},
   "outputs": [],
   "source": [
    "def calc_continuous_effect(control: pd.DataFrame,\n",
    "                           treatment: pd.DataFrame,\n",
    "                           column: str,\n",
    "                           stat_test: Union['t', 'mw'] = 't') -> pd.DataFrame:\n",
    "    \n",
    "    control_mean = control.loc[:, column].mean()\n",
    "    treatment_mean = treatment.loc[:, column].mean()\n",
    "    \n",
    "    control_std = control.loc[:, column].std(ddof=1)\n",
    "    treatment_std = treatment.loc[:, column].std(ddof=1)\n",
    "    \n",
    "    nobs1 = control.shape[0]\n",
    "    nobs2 = treatment.shape[0]\n",
    "    \n",
    "    # effect_size = (treatment_mean - control_mean) / ((control_std ** 2 + treatment_std ** 2) / 2) ** .5\n",
    "    effect_size, _ = effectsize_smd(mean1=treatment_mean, sd1=treatment_std, nobs1=nobs2,\n",
    "                                    mean2=control_mean, sd2=control_std, nobs2=nobs1)\n",
    "    \n",
    "    if stat_test == 't':\n",
    "        _, pvalue = stats.ttest_ind(a=control.loc[:, column],\n",
    "                                    b=treatment.loc[:, column],\n",
    "                                    equal_var=False, # perform Welch's t-test\n",
    "                                    alternative='two-sided')\n",
    "   \n",
    "    elif stat_test == 'mw':\n",
    "        _, pvalue = stats.mannwhitneyu(x=control.loc[:, column],\n",
    "                                       y=treatment.loc[:, column],\n",
    "                                       alternative='two-sided')\n",
    "    else:\n",
    "        raise NotImplementedError()\n",
    "\n",
    "    power = tt_ind_solve_power(effect_size=effect_size,\n",
    "                               nobs1=control.shape[0],\n",
    "                               alpha=pvalue,\n",
    "                               power=None,\n",
    "                               ratio=nobs2/nobs1)\n",
    "    \n",
    "    pw_settings = {'alpha': .05, 'power': .8}\n",
    "    pw_nobs = tt_ind_solve_power(effect_size=effect_size,\n",
    "                                 nobs1=None,\n",
    "                                 alpha=pw_settings['alpha'],\n",
    "                                 power=pw_settings['power'],\n",
    "                                 ratio=1)\n",
    "    \n",
    "    difference = treatment_mean - control_mean\n",
    "    \n",
    "    result = pd.DataFrame({'effect_size': effect_size,\n",
    "                           'alpha': pvalue, \n",
    "                           'beta': (1-power),\n",
    "                           'power': power,\n",
    "                           'difference': difference,\n",
    "                           'nobs': nobs1 + nobs2},\n",
    "                          index=[column]) \n",
    "    \n",
    "    perfect_way = pd.DataFrame({'effect_size': effect_size,\n",
    "                                'alpha': pw_settings['alpha'],\n",
    "                                'beta': 1 - pw_settings['power'],\n",
    "                                'power': pw_settings['power'],\n",
    "                                'difference': difference,\n",
    "                                'nobs': round(pw_nobs * 2, 0)},\n",
    "                               index=['perfect_way'])\n",
    "    \n",
    "    return pd.concat((result, perfect_way))"
   ]
  },
  {
   "cell_type": "code",
   "execution_count": 11,
   "metadata": {},
   "outputs": [],
   "source": [
    "def calc_proportion_effect(control: pd.DataFrame,\n",
    "                           treatment: pd.DataFrame,\n",
    "                           column: str,) -> pd.DataFrame:\n",
    "    \n",
    "    control_mean = control.loc[:, column].mean()\n",
    "    treatment_mean = treatment.loc[:, column].mean()\n",
    "    \n",
    "    conv1 = control.loc[:, column].sum()\n",
    "    conv2 = treatment.loc[:, column].sum()\n",
    "    \n",
    "    nobs1 = control.shape[0]\n",
    "    nobs2 = treatment.shape[0]\n",
    "    \n",
    "    # effect_size_f = 2  * asin(np.sqrt(conv1/nobs1)) - 2 * asin(np.sqrt(conv2/nobs2))\n",
    "    effect_size = proportion.proportion_effectsize(prop1=conv1/nobs1, prop2=conv2/nobs2)\n",
    "    \n",
    "    _, chi_pvalue, _ = proportion.proportions_chisquare([conv1, conv2], [nobs1, nobs2])\n",
    "    \n",
    "    _, z_pvalue = proportion.proportions_ztest([conv1, conv2], [nobs1, nobs2])\n",
    "\n",
    "    power = zt_ind_solve_power(effect_size=effect_size,\n",
    "                               nobs1=nobs1,\n",
    "                               alpha=z_pvalue,\n",
    "                               power=None,\n",
    "                               ratio=nobs2/nobs1)\n",
    "    \n",
    "    pw_settings = {'alpha': .05, 'power': .8}\n",
    "    pw_nobs = zt_ind_solve_power(effect_size=effect_size,\n",
    "                                 nobs1=None,\n",
    "                                 alpha=pw_settings['alpha'],\n",
    "                                 power=pw_settings['power'],\n",
    "                                 ratio=1)\n",
    "    \n",
    "    difference = treatment_mean - control_mean\n",
    "    \n",
    "    result = pd.DataFrame({'effect_size': effect_size,\n",
    "                           'alpha_chi': chi_pvalue, \n",
    "                           'alpha_z': z_pvalue,\n",
    "                           'beta': (1-power),\n",
    "                           'power': power,\n",
    "                           'difference': difference,\n",
    "                           'nobs': nobs1 + nobs2},\n",
    "                          index=[column]) \n",
    "    \n",
    "    perfect_way = pd.DataFrame({'effect_size': effect_size,\n",
    "                                'alpha_chi': pw_settings['alpha'],\n",
    "                                'alpha_z': pw_settings['alpha'],\n",
    "                                'beta': 1 - pw_settings['power'],\n",
    "                                'power': pw_settings['power'],\n",
    "                                'difference': difference,\n",
    "                                'nobs': round(pw_nobs * 2, 0)},\n",
    "                               index=['perfect_way'])\n",
    "    \n",
    "    return pd.concat((result, perfect_way))"
   ]
  },
  {
   "cell_type": "markdown",
   "metadata": {
    "id": "Xx8hTteTriJL"
   },
   "source": [
    "## Метрика выручка на юзера с покупкой"
   ]
  },
  {
   "cell_type": "code",
   "execution_count": 24,
   "metadata": {
    "id": "umt-3EnZvTkh"
   },
   "outputs": [
    {
     "data": {
      "application/vnd.plotly.v1+json": {
       "config": {
        "plotlyServerURL": "https://plot.ly"
       },
       "data": [
        {
         "alignmentgroup": "True",
         "bingroup": "x",
         "hovertemplate": "ab_group=A<br>revenue=%{x}<br>count=%{y}<extra></extra>",
         "legendgroup": "A",
         "marker": {
          "color": "#636efa",
          "pattern": {
           "shape": ""
          }
         },
         "name": "A",
         "nbinsx": 50,
         "offsetgroup": "A",
         "orientation": "v",
         "showlegend": true,
         "type": "histogram",
         "x": [
          1.885595,
          1.002159,
          2.99,
          49.99,
          22.093757,
          2.77365,
          8.719624,
          11.22002,
          19.99,
          3.931527,
          29.98,
          3.719415,
          2.488312,
          2.444084,
          60.249775,
          4.99,
          0.96735,
          26.994274,
          6.97743699999999,
          9.99,
          4.99,
          1.452885,
          99.9,
          3.787458,
          5.96,
          12.315864,
          1.834131,
          6.143815,
          1.99,
          1.99,
          2.480995,
          14.726745,
          6.079757,
          1.471418,
          3.914447,
          49.104126,
          1.584099,
          1.99,
          10.292411,
          4.28244,
          2.33864,
          0.988025,
          2.679447,
          1.9727,
          84.9400019999999,
          2.387781,
          10.315577,
          23.692115,
          8.26226799999999,
          2.447502,
          1.99,
          11.98,
          4.99,
          0.259689,
          2.50076,
          2.130623,
          9.98,
          2.440118,
          2.504176,
          7.342972,
          3.913414,
          2.441547,
          5.429191,
          3.264326,
          3.148302,
          20.695982,
          4.926972,
          1.99,
          18.393383,
          1.256783,
          6.123098,
          44.95,
          4.111582,
          3.671942,
          2.99,
          12.316167,
          4.565808,
          2.447541,
          1.99,
          5.49,
          6.174649,
          4.99,
          0.494133,
          1.319515,
          3.99,
          1.99,
          1.99,
          2.806458,
          1.99,
          11.965879,
          1.99,
          4.99,
          2.153801,
          4.28388,
          1.23671,
          42.743493,
          0.933791,
          2.31843,
          64.987165,
          64.277367,
          6.98,
          21.06337,
          10.077827,
          9.99,
          14.99,
          17.050079,
          14.8554669999999,
          6.137203,
          1.520214,
          6.12,
          3.263577,
          2.359254,
          1.99,
          2.99,
          3.42976,
          1.99,
          31.92,
          1.524369,
          2.002705,
          14.609241,
          39.98,
          1.217549,
          1.99,
          13.772516,
          5.521627,
          1.99,
          12.714899,
          4.99,
          5.97,
          1.99,
          4.99,
          13.9835489999999,
          2.509311,
          1.47067099999999,
          6.98,
          6.568624,
          1.99,
          2.49466,
          3.678587,
          3.679497,
          4.890209,
          1.99,
          2.431434,
          401.64,
          2.99,
          2.442169,
          2.99,
          5.02074799999999,
          29.331376,
          14.724918,
          0.94748,
          2.827761,
          5.393568,
          0.947611,
          1.495791,
          0.99666,
          4.99,
          29.98,
          4.98,
          29.98,
          0.991949,
          3.488343,
          3.577527,
          1.491905,
          8.121503,
          2.441661,
          5.959597,
          11.910816,
          46.94,
          3.683287,
          24.97,
          22.100354,
          0.745171,
          6.14919899999999,
          11.056627,
          14.99,
          2.389298,
          56.485818,
          3.99,
          19.98,
          2.697873,
          1.515419,
          34.96,
          5.983796,
          25.955437,
          9.99,
          19.476478,
          2.462254,
          9.93986,
          1.237952,
          1.220363,
          0.922332,
          1.974565,
          6.16,
          20.222596,
          9.97,
          2.99,
          0.259736,
          11.960114,
          6.044033,
          8.97,
          1.457669,
          9.98,
          9.497176,
          0.99,
          5.596133,
          3.98,
          2.443481,
          190.129901,
          68.94,
          1.004564,
          2.303378,
          9.823251,
          2.448291,
          6.98,
          5.908198,
          4.077614,
          3.98,
          1.279747,
          3.914447,
          14.99,
          18.428931,
          2.317912,
          2.502012,
          0.942004,
          2.523352,
          6.74077,
          136.195744,
          64.93,
          3.266038,
          34.97,
          1.99,
          1.99,
          19.99,
          31.883229,
          79.97,
          208.303751,
          3.98454,
          12.258225,
          4.99,
          1.414287,
          0.992872,
          2.500399,
          1303.609284,
          22.20894,
          3.655065,
          2.357596,
          4.075668,
          5.905818,
          4.99,
          11.007069,
          1.99,
          15.012722,
          20.321865,
          13.594611,
          6.99
         ],
         "xaxis": "x",
         "yaxis": "y"
        },
        {
         "alignmentgroup": "True",
         "hovertemplate": "ab_group=A<br>revenue=%{x}<extra></extra>",
         "legendgroup": "A",
         "marker": {
          "color": "#636efa"
         },
         "name": "A",
         "notched": true,
         "offsetgroup": "A",
         "showlegend": false,
         "type": "box",
         "x": [
          1.885595,
          1.002159,
          2.99,
          49.99,
          22.093757,
          2.77365,
          8.719624,
          11.22002,
          19.99,
          3.931527,
          29.98,
          3.719415,
          2.488312,
          2.444084,
          60.249775,
          4.99,
          0.96735,
          26.994274,
          6.97743699999999,
          9.99,
          4.99,
          1.452885,
          99.9,
          3.787458,
          5.96,
          12.315864,
          1.834131,
          6.143815,
          1.99,
          1.99,
          2.480995,
          14.726745,
          6.079757,
          1.471418,
          3.914447,
          49.104126,
          1.584099,
          1.99,
          10.292411,
          4.28244,
          2.33864,
          0.988025,
          2.679447,
          1.9727,
          84.9400019999999,
          2.387781,
          10.315577,
          23.692115,
          8.26226799999999,
          2.447502,
          1.99,
          11.98,
          4.99,
          0.259689,
          2.50076,
          2.130623,
          9.98,
          2.440118,
          2.504176,
          7.342972,
          3.913414,
          2.441547,
          5.429191,
          3.264326,
          3.148302,
          20.695982,
          4.926972,
          1.99,
          18.393383,
          1.256783,
          6.123098,
          44.95,
          4.111582,
          3.671942,
          2.99,
          12.316167,
          4.565808,
          2.447541,
          1.99,
          5.49,
          6.174649,
          4.99,
          0.494133,
          1.319515,
          3.99,
          1.99,
          1.99,
          2.806458,
          1.99,
          11.965879,
          1.99,
          4.99,
          2.153801,
          4.28388,
          1.23671,
          42.743493,
          0.933791,
          2.31843,
          64.987165,
          64.277367,
          6.98,
          21.06337,
          10.077827,
          9.99,
          14.99,
          17.050079,
          14.8554669999999,
          6.137203,
          1.520214,
          6.12,
          3.263577,
          2.359254,
          1.99,
          2.99,
          3.42976,
          1.99,
          31.92,
          1.524369,
          2.002705,
          14.609241,
          39.98,
          1.217549,
          1.99,
          13.772516,
          5.521627,
          1.99,
          12.714899,
          4.99,
          5.97,
          1.99,
          4.99,
          13.9835489999999,
          2.509311,
          1.47067099999999,
          6.98,
          6.568624,
          1.99,
          2.49466,
          3.678587,
          3.679497,
          4.890209,
          1.99,
          2.431434,
          401.64,
          2.99,
          2.442169,
          2.99,
          5.02074799999999,
          29.331376,
          14.724918,
          0.94748,
          2.827761,
          5.393568,
          0.947611,
          1.495791,
          0.99666,
          4.99,
          29.98,
          4.98,
          29.98,
          0.991949,
          3.488343,
          3.577527,
          1.491905,
          8.121503,
          2.441661,
          5.959597,
          11.910816,
          46.94,
          3.683287,
          24.97,
          22.100354,
          0.745171,
          6.14919899999999,
          11.056627,
          14.99,
          2.389298,
          56.485818,
          3.99,
          19.98,
          2.697873,
          1.515419,
          34.96,
          5.983796,
          25.955437,
          9.99,
          19.476478,
          2.462254,
          9.93986,
          1.237952,
          1.220363,
          0.922332,
          1.974565,
          6.16,
          20.222596,
          9.97,
          2.99,
          0.259736,
          11.960114,
          6.044033,
          8.97,
          1.457669,
          9.98,
          9.497176,
          0.99,
          5.596133,
          3.98,
          2.443481,
          190.129901,
          68.94,
          1.004564,
          2.303378,
          9.823251,
          2.448291,
          6.98,
          5.908198,
          4.077614,
          3.98,
          1.279747,
          3.914447,
          14.99,
          18.428931,
          2.317912,
          2.502012,
          0.942004,
          2.523352,
          6.74077,
          136.195744,
          64.93,
          3.266038,
          34.97,
          1.99,
          1.99,
          19.99,
          31.883229,
          79.97,
          208.303751,
          3.98454,
          12.258225,
          4.99,
          1.414287,
          0.992872,
          2.500399,
          1303.609284,
          22.20894,
          3.655065,
          2.357596,
          4.075668,
          5.905818,
          4.99,
          11.007069,
          1.99,
          15.012722,
          20.321865,
          13.594611,
          6.99
         ],
         "xaxis": "x2",
         "yaxis": "y2"
        },
        {
         "alignmentgroup": "True",
         "bingroup": "x",
         "hovertemplate": "ab_group=B<br>revenue=%{x}<br>count=%{y}<extra></extra>",
         "legendgroup": "B",
         "marker": {
          "color": "#EF553B",
          "pattern": {
           "shape": ""
          }
         },
         "name": "B",
         "nbinsx": 50,
         "offsetgroup": "B",
         "orientation": "v",
         "showlegend": true,
         "type": "histogram",
         "x": [
          0.25945,
          1.002704,
          69.94,
          63.323518,
          15.922366,
          51.904239,
          1.99,
          4.99,
          24.544481,
          2.80714,
          5.82058399999999,
          0.991518,
          1.99,
          42.93,
          1.491534,
          2.99,
          25.727642,
          2.453401,
          11.97,
          1.882905,
          7.98,
          2.805218,
          6.123391,
          1.000452,
          2.408524,
          1.489315,
          13.531231,
          3.98,
          6.920188,
          2.432069,
          46.561191,
          6.01649199999999,
          9.99,
          4.99,
          29.99,
          3.664328,
          19.761527,
          0.934072,
          9.955833,
          2.441754,
          12.239617,
          10.341894,
          3.598186,
          29.98,
          6.12419499999999,
          26.98,
          21.98,
          25.537658,
          8.569627,
          2.487817,
          6.98,
          4.99,
          3.973878,
          2.197762,
          1.99,
          2.445484,
          1.99,
          61.683456,
          21.98,
          1.953625,
          3.656426,
          8.97,
          2.44867,
          2.711944,
          6.161786,
          4.394415,
          49.990002,
          2.99,
          10.488135,
          25.506142,
          4.890265,
          50.240634,
          1.48151,
          4.99,
          1.080487,
          2.711785,
          2.500466,
          60.350877,
          2.317127,
          9.98,
          1.459139,
          6.12419499999999,
          2.267233,
          111.75,
          5.928075,
          3.687179,
          2.548399,
          27.071845,
          5.966441,
          0.259984,
          70.963804,
          2.490148,
          6.130214,
          1.99,
          2.547869,
          2.304155,
          2.708036,
          1.99,
          49.96,
          5.960018,
          1.005183,
          1.99,
          29.98,
          2.82396,
          1.264476,
          0.259792,
          27.246433,
          6.121677,
          6.110615,
          43.88278,
          1.99,
          2.99,
          13.338936,
          1.99,
          29.99,
          2.490023,
          3.98,
          0.259373,
          12.99,
          79.535358,
          1.001391,
          10.62219,
          4.54672,
          1.99,
          14.7228489999999,
          14.99,
          3.670806,
          2.437912,
          12.144834,
          7.946181,
          2.99,
          1.99,
          9.99,
          4.99,
          35.97,
          10.98,
          7.96961499999999,
          1.99,
          1.970865,
          31.97,
          113.829999999999,
          2.711785,
          2.033948,
          1.99,
          2.99,
          6.768944,
          1.51667,
          25.95,
          2.075865,
          8.193918,
          4.99,
          2.447396,
          39.98,
          6.07610599999999,
          2.99,
          2.99,
          2.482744,
          2.034379,
          6.89638,
          29.99,
          6.458117,
          38.5022669999999,
          0.792799,
          2.44582,
          2.079116,
          2.292312,
          4.99,
          10.120148,
          2.99,
          1.99,
          1.00158899999999,
          1.31527,
          1.215308,
          19.294907,
          3.640755,
          38.96,
          1.99,
          1.99,
          2.448556,
          4.99,
          2.432369,
          10.527881,
          4.99,
          1.99,
          3.98,
          1.99,
          2.99,
          12.286566,
          14.99,
          1.002704,
          29.98,
          2.328238,
          32.652387,
          35.9259209999999,
          2.672605,
          1.99,
          3.48142299999999,
          1.248736,
          4.99,
          16.351089,
          12.99,
          99.96,
          0.988929,
          4.99,
          5.984685,
          2.99,
          2.450476,
          3.676769,
          4.99,
          2.448896,
          20.849542,
          1.99,
          2.43229,
          24.567858,
          49.990002,
          18.711956,
          2.82205,
          4.289614,
          44.96,
          2.44185,
          8.97,
          1.99,
          2.328153,
          1.99,
          3.99,
          11.018561,
          1.46351,
          2.5422,
          30.102912,
          2.489611,
          74.95,
          3.667866,
          19.99,
          2.453401
         ],
         "xaxis": "x",
         "yaxis": "y"
        },
        {
         "alignmentgroup": "True",
         "hovertemplate": "ab_group=B<br>revenue=%{x}<extra></extra>",
         "legendgroup": "B",
         "marker": {
          "color": "#EF553B"
         },
         "name": "B",
         "notched": true,
         "offsetgroup": "B",
         "showlegend": false,
         "type": "box",
         "x": [
          0.25945,
          1.002704,
          69.94,
          63.323518,
          15.922366,
          51.904239,
          1.99,
          4.99,
          24.544481,
          2.80714,
          5.82058399999999,
          0.991518,
          1.99,
          42.93,
          1.491534,
          2.99,
          25.727642,
          2.453401,
          11.97,
          1.882905,
          7.98,
          2.805218,
          6.123391,
          1.000452,
          2.408524,
          1.489315,
          13.531231,
          3.98,
          6.920188,
          2.432069,
          46.561191,
          6.01649199999999,
          9.99,
          4.99,
          29.99,
          3.664328,
          19.761527,
          0.934072,
          9.955833,
          2.441754,
          12.239617,
          10.341894,
          3.598186,
          29.98,
          6.12419499999999,
          26.98,
          21.98,
          25.537658,
          8.569627,
          2.487817,
          6.98,
          4.99,
          3.973878,
          2.197762,
          1.99,
          2.445484,
          1.99,
          61.683456,
          21.98,
          1.953625,
          3.656426,
          8.97,
          2.44867,
          2.711944,
          6.161786,
          4.394415,
          49.990002,
          2.99,
          10.488135,
          25.506142,
          4.890265,
          50.240634,
          1.48151,
          4.99,
          1.080487,
          2.711785,
          2.500466,
          60.350877,
          2.317127,
          9.98,
          1.459139,
          6.12419499999999,
          2.267233,
          111.75,
          5.928075,
          3.687179,
          2.548399,
          27.071845,
          5.966441,
          0.259984,
          70.963804,
          2.490148,
          6.130214,
          1.99,
          2.547869,
          2.304155,
          2.708036,
          1.99,
          49.96,
          5.960018,
          1.005183,
          1.99,
          29.98,
          2.82396,
          1.264476,
          0.259792,
          27.246433,
          6.121677,
          6.110615,
          43.88278,
          1.99,
          2.99,
          13.338936,
          1.99,
          29.99,
          2.490023,
          3.98,
          0.259373,
          12.99,
          79.535358,
          1.001391,
          10.62219,
          4.54672,
          1.99,
          14.7228489999999,
          14.99,
          3.670806,
          2.437912,
          12.144834,
          7.946181,
          2.99,
          1.99,
          9.99,
          4.99,
          35.97,
          10.98,
          7.96961499999999,
          1.99,
          1.970865,
          31.97,
          113.829999999999,
          2.711785,
          2.033948,
          1.99,
          2.99,
          6.768944,
          1.51667,
          25.95,
          2.075865,
          8.193918,
          4.99,
          2.447396,
          39.98,
          6.07610599999999,
          2.99,
          2.99,
          2.482744,
          2.034379,
          6.89638,
          29.99,
          6.458117,
          38.5022669999999,
          0.792799,
          2.44582,
          2.079116,
          2.292312,
          4.99,
          10.120148,
          2.99,
          1.99,
          1.00158899999999,
          1.31527,
          1.215308,
          19.294907,
          3.640755,
          38.96,
          1.99,
          1.99,
          2.448556,
          4.99,
          2.432369,
          10.527881,
          4.99,
          1.99,
          3.98,
          1.99,
          2.99,
          12.286566,
          14.99,
          1.002704,
          29.98,
          2.328238,
          32.652387,
          35.9259209999999,
          2.672605,
          1.99,
          3.48142299999999,
          1.248736,
          4.99,
          16.351089,
          12.99,
          99.96,
          0.988929,
          4.99,
          5.984685,
          2.99,
          2.450476,
          3.676769,
          4.99,
          2.448896,
          20.849542,
          1.99,
          2.43229,
          24.567858,
          49.990002,
          18.711956,
          2.82205,
          4.289614,
          44.96,
          2.44185,
          8.97,
          1.99,
          2.328153,
          1.99,
          3.99,
          11.018561,
          1.46351,
          2.5422,
          30.102912,
          2.489611,
          74.95,
          3.667866,
          19.99,
          2.453401
         ],
         "xaxis": "x2",
         "yaxis": "y2"
        }
       ],
       "layout": {
        "barmode": "relative",
        "legend": {
         "title": {
          "text": "ab_group"
         },
         "tracegroupgap": 0
        },
        "template": {
         "data": {
          "bar": [
           {
            "error_x": {
             "color": "#2a3f5f"
            },
            "error_y": {
             "color": "#2a3f5f"
            },
            "marker": {
             "line": {
              "color": "#E5ECF6",
              "width": 0.5
             },
             "pattern": {
              "fillmode": "overlay",
              "size": 10,
              "solidity": 0.2
             }
            },
            "type": "bar"
           }
          ],
          "barpolar": [
           {
            "marker": {
             "line": {
              "color": "#E5ECF6",
              "width": 0.5
             },
             "pattern": {
              "fillmode": "overlay",
              "size": 10,
              "solidity": 0.2
             }
            },
            "type": "barpolar"
           }
          ],
          "carpet": [
           {
            "aaxis": {
             "endlinecolor": "#2a3f5f",
             "gridcolor": "white",
             "linecolor": "white",
             "minorgridcolor": "white",
             "startlinecolor": "#2a3f5f"
            },
            "baxis": {
             "endlinecolor": "#2a3f5f",
             "gridcolor": "white",
             "linecolor": "white",
             "minorgridcolor": "white",
             "startlinecolor": "#2a3f5f"
            },
            "type": "carpet"
           }
          ],
          "choropleth": [
           {
            "colorbar": {
             "outlinewidth": 0,
             "ticks": ""
            },
            "type": "choropleth"
           }
          ],
          "contour": [
           {
            "colorbar": {
             "outlinewidth": 0,
             "ticks": ""
            },
            "colorscale": [
             [
              0,
              "#0d0887"
             ],
             [
              0.1111111111111111,
              "#46039f"
             ],
             [
              0.2222222222222222,
              "#7201a8"
             ],
             [
              0.3333333333333333,
              "#9c179e"
             ],
             [
              0.4444444444444444,
              "#bd3786"
             ],
             [
              0.5555555555555556,
              "#d8576b"
             ],
             [
              0.6666666666666666,
              "#ed7953"
             ],
             [
              0.7777777777777778,
              "#fb9f3a"
             ],
             [
              0.8888888888888888,
              "#fdca26"
             ],
             [
              1,
              "#f0f921"
             ]
            ],
            "type": "contour"
           }
          ],
          "contourcarpet": [
           {
            "colorbar": {
             "outlinewidth": 0,
             "ticks": ""
            },
            "type": "contourcarpet"
           }
          ],
          "heatmap": [
           {
            "colorbar": {
             "outlinewidth": 0,
             "ticks": ""
            },
            "colorscale": [
             [
              0,
              "#0d0887"
             ],
             [
              0.1111111111111111,
              "#46039f"
             ],
             [
              0.2222222222222222,
              "#7201a8"
             ],
             [
              0.3333333333333333,
              "#9c179e"
             ],
             [
              0.4444444444444444,
              "#bd3786"
             ],
             [
              0.5555555555555556,
              "#d8576b"
             ],
             [
              0.6666666666666666,
              "#ed7953"
             ],
             [
              0.7777777777777778,
              "#fb9f3a"
             ],
             [
              0.8888888888888888,
              "#fdca26"
             ],
             [
              1,
              "#f0f921"
             ]
            ],
            "type": "heatmap"
           }
          ],
          "heatmapgl": [
           {
            "colorbar": {
             "outlinewidth": 0,
             "ticks": ""
            },
            "colorscale": [
             [
              0,
              "#0d0887"
             ],
             [
              0.1111111111111111,
              "#46039f"
             ],
             [
              0.2222222222222222,
              "#7201a8"
             ],
             [
              0.3333333333333333,
              "#9c179e"
             ],
             [
              0.4444444444444444,
              "#bd3786"
             ],
             [
              0.5555555555555556,
              "#d8576b"
             ],
             [
              0.6666666666666666,
              "#ed7953"
             ],
             [
              0.7777777777777778,
              "#fb9f3a"
             ],
             [
              0.8888888888888888,
              "#fdca26"
             ],
             [
              1,
              "#f0f921"
             ]
            ],
            "type": "heatmapgl"
           }
          ],
          "histogram": [
           {
            "marker": {
             "pattern": {
              "fillmode": "overlay",
              "size": 10,
              "solidity": 0.2
             }
            },
            "type": "histogram"
           }
          ],
          "histogram2d": [
           {
            "colorbar": {
             "outlinewidth": 0,
             "ticks": ""
            },
            "colorscale": [
             [
              0,
              "#0d0887"
             ],
             [
              0.1111111111111111,
              "#46039f"
             ],
             [
              0.2222222222222222,
              "#7201a8"
             ],
             [
              0.3333333333333333,
              "#9c179e"
             ],
             [
              0.4444444444444444,
              "#bd3786"
             ],
             [
              0.5555555555555556,
              "#d8576b"
             ],
             [
              0.6666666666666666,
              "#ed7953"
             ],
             [
              0.7777777777777778,
              "#fb9f3a"
             ],
             [
              0.8888888888888888,
              "#fdca26"
             ],
             [
              1,
              "#f0f921"
             ]
            ],
            "type": "histogram2d"
           }
          ],
          "histogram2dcontour": [
           {
            "colorbar": {
             "outlinewidth": 0,
             "ticks": ""
            },
            "colorscale": [
             [
              0,
              "#0d0887"
             ],
             [
              0.1111111111111111,
              "#46039f"
             ],
             [
              0.2222222222222222,
              "#7201a8"
             ],
             [
              0.3333333333333333,
              "#9c179e"
             ],
             [
              0.4444444444444444,
              "#bd3786"
             ],
             [
              0.5555555555555556,
              "#d8576b"
             ],
             [
              0.6666666666666666,
              "#ed7953"
             ],
             [
              0.7777777777777778,
              "#fb9f3a"
             ],
             [
              0.8888888888888888,
              "#fdca26"
             ],
             [
              1,
              "#f0f921"
             ]
            ],
            "type": "histogram2dcontour"
           }
          ],
          "mesh3d": [
           {
            "colorbar": {
             "outlinewidth": 0,
             "ticks": ""
            },
            "type": "mesh3d"
           }
          ],
          "parcoords": [
           {
            "line": {
             "colorbar": {
              "outlinewidth": 0,
              "ticks": ""
             }
            },
            "type": "parcoords"
           }
          ],
          "pie": [
           {
            "automargin": true,
            "type": "pie"
           }
          ],
          "scatter": [
           {
            "fillpattern": {
             "fillmode": "overlay",
             "size": 10,
             "solidity": 0.2
            },
            "type": "scatter"
           }
          ],
          "scatter3d": [
           {
            "line": {
             "colorbar": {
              "outlinewidth": 0,
              "ticks": ""
             }
            },
            "marker": {
             "colorbar": {
              "outlinewidth": 0,
              "ticks": ""
             }
            },
            "type": "scatter3d"
           }
          ],
          "scattercarpet": [
           {
            "marker": {
             "colorbar": {
              "outlinewidth": 0,
              "ticks": ""
             }
            },
            "type": "scattercarpet"
           }
          ],
          "scattergeo": [
           {
            "marker": {
             "colorbar": {
              "outlinewidth": 0,
              "ticks": ""
             }
            },
            "type": "scattergeo"
           }
          ],
          "scattergl": [
           {
            "marker": {
             "colorbar": {
              "outlinewidth": 0,
              "ticks": ""
             }
            },
            "type": "scattergl"
           }
          ],
          "scattermapbox": [
           {
            "marker": {
             "colorbar": {
              "outlinewidth": 0,
              "ticks": ""
             }
            },
            "type": "scattermapbox"
           }
          ],
          "scatterpolar": [
           {
            "marker": {
             "colorbar": {
              "outlinewidth": 0,
              "ticks": ""
             }
            },
            "type": "scatterpolar"
           }
          ],
          "scatterpolargl": [
           {
            "marker": {
             "colorbar": {
              "outlinewidth": 0,
              "ticks": ""
             }
            },
            "type": "scatterpolargl"
           }
          ],
          "scatterternary": [
           {
            "marker": {
             "colorbar": {
              "outlinewidth": 0,
              "ticks": ""
             }
            },
            "type": "scatterternary"
           }
          ],
          "surface": [
           {
            "colorbar": {
             "outlinewidth": 0,
             "ticks": ""
            },
            "colorscale": [
             [
              0,
              "#0d0887"
             ],
             [
              0.1111111111111111,
              "#46039f"
             ],
             [
              0.2222222222222222,
              "#7201a8"
             ],
             [
              0.3333333333333333,
              "#9c179e"
             ],
             [
              0.4444444444444444,
              "#bd3786"
             ],
             [
              0.5555555555555556,
              "#d8576b"
             ],
             [
              0.6666666666666666,
              "#ed7953"
             ],
             [
              0.7777777777777778,
              "#fb9f3a"
             ],
             [
              0.8888888888888888,
              "#fdca26"
             ],
             [
              1,
              "#f0f921"
             ]
            ],
            "type": "surface"
           }
          ],
          "table": [
           {
            "cells": {
             "fill": {
              "color": "#EBF0F8"
             },
             "line": {
              "color": "white"
             }
            },
            "header": {
             "fill": {
              "color": "#C8D4E3"
             },
             "line": {
              "color": "white"
             }
            },
            "type": "table"
           }
          ]
         },
         "layout": {
          "annotationdefaults": {
           "arrowcolor": "#2a3f5f",
           "arrowhead": 0,
           "arrowwidth": 1
          },
          "autotypenumbers": "strict",
          "coloraxis": {
           "colorbar": {
            "outlinewidth": 0,
            "ticks": ""
           }
          },
          "colorscale": {
           "diverging": [
            [
             0,
             "#8e0152"
            ],
            [
             0.1,
             "#c51b7d"
            ],
            [
             0.2,
             "#de77ae"
            ],
            [
             0.3,
             "#f1b6da"
            ],
            [
             0.4,
             "#fde0ef"
            ],
            [
             0.5,
             "#f7f7f7"
            ],
            [
             0.6,
             "#e6f5d0"
            ],
            [
             0.7,
             "#b8e186"
            ],
            [
             0.8,
             "#7fbc41"
            ],
            [
             0.9,
             "#4d9221"
            ],
            [
             1,
             "#276419"
            ]
           ],
           "sequential": [
            [
             0,
             "#0d0887"
            ],
            [
             0.1111111111111111,
             "#46039f"
            ],
            [
             0.2222222222222222,
             "#7201a8"
            ],
            [
             0.3333333333333333,
             "#9c179e"
            ],
            [
             0.4444444444444444,
             "#bd3786"
            ],
            [
             0.5555555555555556,
             "#d8576b"
            ],
            [
             0.6666666666666666,
             "#ed7953"
            ],
            [
             0.7777777777777778,
             "#fb9f3a"
            ],
            [
             0.8888888888888888,
             "#fdca26"
            ],
            [
             1,
             "#f0f921"
            ]
           ],
           "sequentialminus": [
            [
             0,
             "#0d0887"
            ],
            [
             0.1111111111111111,
             "#46039f"
            ],
            [
             0.2222222222222222,
             "#7201a8"
            ],
            [
             0.3333333333333333,
             "#9c179e"
            ],
            [
             0.4444444444444444,
             "#bd3786"
            ],
            [
             0.5555555555555556,
             "#d8576b"
            ],
            [
             0.6666666666666666,
             "#ed7953"
            ],
            [
             0.7777777777777778,
             "#fb9f3a"
            ],
            [
             0.8888888888888888,
             "#fdca26"
            ],
            [
             1,
             "#f0f921"
            ]
           ]
          },
          "colorway": [
           "#636efa",
           "#EF553B",
           "#00cc96",
           "#ab63fa",
           "#FFA15A",
           "#19d3f3",
           "#FF6692",
           "#B6E880",
           "#FF97FF",
           "#FECB52"
          ],
          "font": {
           "color": "#2a3f5f"
          },
          "geo": {
           "bgcolor": "white",
           "lakecolor": "white",
           "landcolor": "#E5ECF6",
           "showlakes": true,
           "showland": true,
           "subunitcolor": "white"
          },
          "hoverlabel": {
           "align": "left"
          },
          "hovermode": "closest",
          "mapbox": {
           "style": "light"
          },
          "paper_bgcolor": "white",
          "plot_bgcolor": "#E5ECF6",
          "polar": {
           "angularaxis": {
            "gridcolor": "white",
            "linecolor": "white",
            "ticks": ""
           },
           "bgcolor": "#E5ECF6",
           "radialaxis": {
            "gridcolor": "white",
            "linecolor": "white",
            "ticks": ""
           }
          },
          "scene": {
           "xaxis": {
            "backgroundcolor": "#E5ECF6",
            "gridcolor": "white",
            "gridwidth": 2,
            "linecolor": "white",
            "showbackground": true,
            "ticks": "",
            "zerolinecolor": "white"
           },
           "yaxis": {
            "backgroundcolor": "#E5ECF6",
            "gridcolor": "white",
            "gridwidth": 2,
            "linecolor": "white",
            "showbackground": true,
            "ticks": "",
            "zerolinecolor": "white"
           },
           "zaxis": {
            "backgroundcolor": "#E5ECF6",
            "gridcolor": "white",
            "gridwidth": 2,
            "linecolor": "white",
            "showbackground": true,
            "ticks": "",
            "zerolinecolor": "white"
           }
          },
          "shapedefaults": {
           "line": {
            "color": "#2a3f5f"
           }
          },
          "ternary": {
           "aaxis": {
            "gridcolor": "white",
            "linecolor": "white",
            "ticks": ""
           },
           "baxis": {
            "gridcolor": "white",
            "linecolor": "white",
            "ticks": ""
           },
           "bgcolor": "#E5ECF6",
           "caxis": {
            "gridcolor": "white",
            "linecolor": "white",
            "ticks": ""
           }
          },
          "title": {
           "x": 0.05
          },
          "xaxis": {
           "automargin": true,
           "gridcolor": "white",
           "linecolor": "white",
           "ticks": "",
           "title": {
            "standoff": 15
           },
           "zerolinecolor": "white",
           "zerolinewidth": 2
          },
          "yaxis": {
           "automargin": true,
           "gridcolor": "white",
           "linecolor": "white",
           "ticks": "",
           "title": {
            "standoff": 15
           },
           "zerolinecolor": "white",
           "zerolinewidth": 2
          }
         }
        },
        "title": {
         "text": "revenue_distribution"
        },
        "xaxis": {
         "anchor": "y",
         "domain": [
          0,
          1
         ],
         "title": {
          "text": "revenue"
         }
        },
        "xaxis2": {
         "anchor": "y2",
         "domain": [
          0,
          1
         ],
         "matches": "x",
         "showgrid": true,
         "showticklabels": false
        },
        "yaxis": {
         "anchor": "x",
         "domain": [
          0,
          0.7326
         ],
         "title": {
          "text": "count"
         }
        },
        "yaxis2": {
         "anchor": "x2",
         "domain": [
          0.7426,
          1
         ],
         "matches": "y2",
         "showgrid": false,
         "showline": false,
         "showticklabels": false,
         "ticks": ""
        }
       }
      },
      "text/html": [
       "<div>                            <div id=\"ab956e2e-fb58-462d-83c5-29bbe0f9e363\" class=\"plotly-graph-div\" style=\"height:525px; width:100%;\"></div>            <script type=\"text/javascript\">                require([\"plotly\"], function(Plotly) {                    window.PLOTLYENV=window.PLOTLYENV || {};                                    if (document.getElementById(\"ab956e2e-fb58-462d-83c5-29bbe0f9e363\")) {                    Plotly.newPlot(                        \"ab956e2e-fb58-462d-83c5-29bbe0f9e363\",                        [{\"alignmentgroup\":\"True\",\"bingroup\":\"x\",\"hovertemplate\":\"ab_group=A\\u003cbr\\u003erevenue=%{x}\\u003cbr\\u003ecount=%{y}\\u003cextra\\u003e\\u003c\\u002fextra\\u003e\",\"legendgroup\":\"A\",\"marker\":{\"color\":\"#636efa\",\"pattern\":{\"shape\":\"\"}},\"name\":\"A\",\"nbinsx\":50,\"offsetgroup\":\"A\",\"orientation\":\"v\",\"showlegend\":true,\"x\":[1.885595,1.002159,2.99,49.99,22.093757,2.77365,8.719624,11.22002,19.99,3.931527,29.98,3.719415,2.488312,2.444084,60.249775,4.99,0.96735,26.994274,6.97743699999999,9.99,4.99,1.452885,99.9,3.787458,5.96,12.315864,1.834131,6.143815,1.99,1.99,2.480995,14.726745,6.079757,1.471418,3.914447,49.104126,1.584099,1.99,10.292411,4.28244,2.33864,0.988025,2.679447,1.9727,84.9400019999999,2.387781,10.315577,23.692115,8.26226799999999,2.447502,1.99,11.98,4.99,0.259689,2.50076,2.130623,9.98,2.440118,2.504176,7.342972,3.913414,2.441547,5.429191,3.264326,3.148302,20.695982,4.926972,1.99,18.393383,1.256783,6.123098,44.95,4.111582,3.671942,2.99,12.316167,4.565808,2.447541,1.99,5.49,6.174649,4.99,0.494133,1.319515,3.99,1.99,1.99,2.806458,1.99,11.965879,1.99,4.99,2.153801,4.28388,1.23671,42.743493,0.933791,2.31843,64.987165,64.277367,6.98,21.06337,10.077827,9.99,14.99,17.050079,14.8554669999999,6.137203,1.520214,6.12,3.263577,2.359254,1.99,2.99,3.42976,1.99,31.92,1.524369,2.002705,14.609241,39.98,1.217549,1.99,13.772516,5.521627,1.99,12.714899,4.99,5.97,1.99,4.99,13.9835489999999,2.509311,1.47067099999999,6.98,6.568624,1.99,2.49466,3.678587,3.679497,4.890209,1.99,2.431434,401.64,2.99,2.442169,2.99,5.02074799999999,29.331376,14.724918,0.94748,2.827761,5.393568,0.947611,1.495791,0.99666,4.99,29.98,4.98,29.98,0.991949,3.488343,3.577527,1.491905,8.121503,2.441661,5.959597,11.910816,46.94,3.683287,24.97,22.100354,0.745171,6.14919899999999,11.056627,14.99,2.389298,56.485818,3.99,19.98,2.697873,1.515419,34.96,5.983796,25.955437,9.99,19.476478,2.462254,9.93986,1.237952,1.220363,0.922332,1.974565,6.16,20.222596,9.97,2.99,0.259736,11.960114,6.044033,8.97,1.457669,9.98,9.497176,0.99,5.596133,3.98,2.443481,190.129901,68.94,1.004564,2.303378,9.823251,2.448291,6.98,5.908198,4.077614,3.98,1.279747,3.914447,14.99,18.428931,2.317912,2.502012,0.942004,2.523352,6.74077,136.195744,64.93,3.266038,34.97,1.99,1.99,19.99,31.883229,79.97,208.303751,3.98454,12.258225,4.99,1.414287,0.992872,2.500399,1303.609284,22.20894,3.655065,2.357596,4.075668,5.905818,4.99,11.007069,1.99,15.012722,20.321865,13.594611,6.99],\"xaxis\":\"x\",\"yaxis\":\"y\",\"type\":\"histogram\"},{\"alignmentgroup\":\"True\",\"hovertemplate\":\"ab_group=A\\u003cbr\\u003erevenue=%{x}\\u003cextra\\u003e\\u003c\\u002fextra\\u003e\",\"legendgroup\":\"A\",\"marker\":{\"color\":\"#636efa\"},\"name\":\"A\",\"notched\":true,\"offsetgroup\":\"A\",\"showlegend\":false,\"x\":[1.885595,1.002159,2.99,49.99,22.093757,2.77365,8.719624,11.22002,19.99,3.931527,29.98,3.719415,2.488312,2.444084,60.249775,4.99,0.96735,26.994274,6.97743699999999,9.99,4.99,1.452885,99.9,3.787458,5.96,12.315864,1.834131,6.143815,1.99,1.99,2.480995,14.726745,6.079757,1.471418,3.914447,49.104126,1.584099,1.99,10.292411,4.28244,2.33864,0.988025,2.679447,1.9727,84.9400019999999,2.387781,10.315577,23.692115,8.26226799999999,2.447502,1.99,11.98,4.99,0.259689,2.50076,2.130623,9.98,2.440118,2.504176,7.342972,3.913414,2.441547,5.429191,3.264326,3.148302,20.695982,4.926972,1.99,18.393383,1.256783,6.123098,44.95,4.111582,3.671942,2.99,12.316167,4.565808,2.447541,1.99,5.49,6.174649,4.99,0.494133,1.319515,3.99,1.99,1.99,2.806458,1.99,11.965879,1.99,4.99,2.153801,4.28388,1.23671,42.743493,0.933791,2.31843,64.987165,64.277367,6.98,21.06337,10.077827,9.99,14.99,17.050079,14.8554669999999,6.137203,1.520214,6.12,3.263577,2.359254,1.99,2.99,3.42976,1.99,31.92,1.524369,2.002705,14.609241,39.98,1.217549,1.99,13.772516,5.521627,1.99,12.714899,4.99,5.97,1.99,4.99,13.9835489999999,2.509311,1.47067099999999,6.98,6.568624,1.99,2.49466,3.678587,3.679497,4.890209,1.99,2.431434,401.64,2.99,2.442169,2.99,5.02074799999999,29.331376,14.724918,0.94748,2.827761,5.393568,0.947611,1.495791,0.99666,4.99,29.98,4.98,29.98,0.991949,3.488343,3.577527,1.491905,8.121503,2.441661,5.959597,11.910816,46.94,3.683287,24.97,22.100354,0.745171,6.14919899999999,11.056627,14.99,2.389298,56.485818,3.99,19.98,2.697873,1.515419,34.96,5.983796,25.955437,9.99,19.476478,2.462254,9.93986,1.237952,1.220363,0.922332,1.974565,6.16,20.222596,9.97,2.99,0.259736,11.960114,6.044033,8.97,1.457669,9.98,9.497176,0.99,5.596133,3.98,2.443481,190.129901,68.94,1.004564,2.303378,9.823251,2.448291,6.98,5.908198,4.077614,3.98,1.279747,3.914447,14.99,18.428931,2.317912,2.502012,0.942004,2.523352,6.74077,136.195744,64.93,3.266038,34.97,1.99,1.99,19.99,31.883229,79.97,208.303751,3.98454,12.258225,4.99,1.414287,0.992872,2.500399,1303.609284,22.20894,3.655065,2.357596,4.075668,5.905818,4.99,11.007069,1.99,15.012722,20.321865,13.594611,6.99],\"xaxis\":\"x2\",\"yaxis\":\"y2\",\"type\":\"box\"},{\"alignmentgroup\":\"True\",\"bingroup\":\"x\",\"hovertemplate\":\"ab_group=B\\u003cbr\\u003erevenue=%{x}\\u003cbr\\u003ecount=%{y}\\u003cextra\\u003e\\u003c\\u002fextra\\u003e\",\"legendgroup\":\"B\",\"marker\":{\"color\":\"#EF553B\",\"pattern\":{\"shape\":\"\"}},\"name\":\"B\",\"nbinsx\":50,\"offsetgroup\":\"B\",\"orientation\":\"v\",\"showlegend\":true,\"x\":[0.25945,1.002704,69.94,63.323518,15.922366,51.904239,1.99,4.99,24.544481,2.80714,5.82058399999999,0.991518,1.99,42.93,1.491534,2.99,25.727642,2.453401,11.97,1.882905,7.98,2.805218,6.123391,1.000452,2.408524,1.489315,13.531231,3.98,6.920188,2.432069,46.561191,6.01649199999999,9.99,4.99,29.99,3.664328,19.761527,0.934072,9.955833,2.441754,12.239617,10.341894,3.598186,29.98,6.12419499999999,26.98,21.98,25.537658,8.569627,2.487817,6.98,4.99,3.973878,2.197762,1.99,2.445484,1.99,61.683456,21.98,1.953625,3.656426,8.97,2.44867,2.711944,6.161786,4.394415,49.990002,2.99,10.488135,25.506142,4.890265,50.240634,1.48151,4.99,1.080487,2.711785,2.500466,60.350877,2.317127,9.98,1.459139,6.12419499999999,2.267233,111.75,5.928075,3.687179,2.548399,27.071845,5.966441,0.259984,70.963804,2.490148,6.130214,1.99,2.547869,2.304155,2.708036,1.99,49.96,5.960018,1.005183,1.99,29.98,2.82396,1.264476,0.259792,27.246433,6.121677,6.110615,43.88278,1.99,2.99,13.338936,1.99,29.99,2.490023,3.98,0.259373,12.99,79.535358,1.001391,10.62219,4.54672,1.99,14.7228489999999,14.99,3.670806,2.437912,12.144834,7.946181,2.99,1.99,9.99,4.99,35.97,10.98,7.96961499999999,1.99,1.970865,31.97,113.829999999999,2.711785,2.033948,1.99,2.99,6.768944,1.51667,25.95,2.075865,8.193918,4.99,2.447396,39.98,6.07610599999999,2.99,2.99,2.482744,2.034379,6.89638,29.99,6.458117,38.5022669999999,0.792799,2.44582,2.079116,2.292312,4.99,10.120148,2.99,1.99,1.00158899999999,1.31527,1.215308,19.294907,3.640755,38.96,1.99,1.99,2.448556,4.99,2.432369,10.527881,4.99,1.99,3.98,1.99,2.99,12.286566,14.99,1.002704,29.98,2.328238,32.652387,35.9259209999999,2.672605,1.99,3.48142299999999,1.248736,4.99,16.351089,12.99,99.96,0.988929,4.99,5.984685,2.99,2.450476,3.676769,4.99,2.448896,20.849542,1.99,2.43229,24.567858,49.990002,18.711956,2.82205,4.289614,44.96,2.44185,8.97,1.99,2.328153,1.99,3.99,11.018561,1.46351,2.5422,30.102912,2.489611,74.95,3.667866,19.99,2.453401],\"xaxis\":\"x\",\"yaxis\":\"y\",\"type\":\"histogram\"},{\"alignmentgroup\":\"True\",\"hovertemplate\":\"ab_group=B\\u003cbr\\u003erevenue=%{x}\\u003cextra\\u003e\\u003c\\u002fextra\\u003e\",\"legendgroup\":\"B\",\"marker\":{\"color\":\"#EF553B\"},\"name\":\"B\",\"notched\":true,\"offsetgroup\":\"B\",\"showlegend\":false,\"x\":[0.25945,1.002704,69.94,63.323518,15.922366,51.904239,1.99,4.99,24.544481,2.80714,5.82058399999999,0.991518,1.99,42.93,1.491534,2.99,25.727642,2.453401,11.97,1.882905,7.98,2.805218,6.123391,1.000452,2.408524,1.489315,13.531231,3.98,6.920188,2.432069,46.561191,6.01649199999999,9.99,4.99,29.99,3.664328,19.761527,0.934072,9.955833,2.441754,12.239617,10.341894,3.598186,29.98,6.12419499999999,26.98,21.98,25.537658,8.569627,2.487817,6.98,4.99,3.973878,2.197762,1.99,2.445484,1.99,61.683456,21.98,1.953625,3.656426,8.97,2.44867,2.711944,6.161786,4.394415,49.990002,2.99,10.488135,25.506142,4.890265,50.240634,1.48151,4.99,1.080487,2.711785,2.500466,60.350877,2.317127,9.98,1.459139,6.12419499999999,2.267233,111.75,5.928075,3.687179,2.548399,27.071845,5.966441,0.259984,70.963804,2.490148,6.130214,1.99,2.547869,2.304155,2.708036,1.99,49.96,5.960018,1.005183,1.99,29.98,2.82396,1.264476,0.259792,27.246433,6.121677,6.110615,43.88278,1.99,2.99,13.338936,1.99,29.99,2.490023,3.98,0.259373,12.99,79.535358,1.001391,10.62219,4.54672,1.99,14.7228489999999,14.99,3.670806,2.437912,12.144834,7.946181,2.99,1.99,9.99,4.99,35.97,10.98,7.96961499999999,1.99,1.970865,31.97,113.829999999999,2.711785,2.033948,1.99,2.99,6.768944,1.51667,25.95,2.075865,8.193918,4.99,2.447396,39.98,6.07610599999999,2.99,2.99,2.482744,2.034379,6.89638,29.99,6.458117,38.5022669999999,0.792799,2.44582,2.079116,2.292312,4.99,10.120148,2.99,1.99,1.00158899999999,1.31527,1.215308,19.294907,3.640755,38.96,1.99,1.99,2.448556,4.99,2.432369,10.527881,4.99,1.99,3.98,1.99,2.99,12.286566,14.99,1.002704,29.98,2.328238,32.652387,35.9259209999999,2.672605,1.99,3.48142299999999,1.248736,4.99,16.351089,12.99,99.96,0.988929,4.99,5.984685,2.99,2.450476,3.676769,4.99,2.448896,20.849542,1.99,2.43229,24.567858,49.990002,18.711956,2.82205,4.289614,44.96,2.44185,8.97,1.99,2.328153,1.99,3.99,11.018561,1.46351,2.5422,30.102912,2.489611,74.95,3.667866,19.99,2.453401],\"xaxis\":\"x2\",\"yaxis\":\"y2\",\"type\":\"box\"}],                        {\"template\":{\"data\":{\"histogram2dcontour\":[{\"type\":\"histogram2dcontour\",\"colorbar\":{\"outlinewidth\":0,\"ticks\":\"\"},\"colorscale\":[[0.0,\"#0d0887\"],[0.1111111111111111,\"#46039f\"],[0.2222222222222222,\"#7201a8\"],[0.3333333333333333,\"#9c179e\"],[0.4444444444444444,\"#bd3786\"],[0.5555555555555556,\"#d8576b\"],[0.6666666666666666,\"#ed7953\"],[0.7777777777777778,\"#fb9f3a\"],[0.8888888888888888,\"#fdca26\"],[1.0,\"#f0f921\"]]}],\"choropleth\":[{\"type\":\"choropleth\",\"colorbar\":{\"outlinewidth\":0,\"ticks\":\"\"}}],\"histogram2d\":[{\"type\":\"histogram2d\",\"colorbar\":{\"outlinewidth\":0,\"ticks\":\"\"},\"colorscale\":[[0.0,\"#0d0887\"],[0.1111111111111111,\"#46039f\"],[0.2222222222222222,\"#7201a8\"],[0.3333333333333333,\"#9c179e\"],[0.4444444444444444,\"#bd3786\"],[0.5555555555555556,\"#d8576b\"],[0.6666666666666666,\"#ed7953\"],[0.7777777777777778,\"#fb9f3a\"],[0.8888888888888888,\"#fdca26\"],[1.0,\"#f0f921\"]]}],\"heatmap\":[{\"type\":\"heatmap\",\"colorbar\":{\"outlinewidth\":0,\"ticks\":\"\"},\"colorscale\":[[0.0,\"#0d0887\"],[0.1111111111111111,\"#46039f\"],[0.2222222222222222,\"#7201a8\"],[0.3333333333333333,\"#9c179e\"],[0.4444444444444444,\"#bd3786\"],[0.5555555555555556,\"#d8576b\"],[0.6666666666666666,\"#ed7953\"],[0.7777777777777778,\"#fb9f3a\"],[0.8888888888888888,\"#fdca26\"],[1.0,\"#f0f921\"]]}],\"heatmapgl\":[{\"type\":\"heatmapgl\",\"colorbar\":{\"outlinewidth\":0,\"ticks\":\"\"},\"colorscale\":[[0.0,\"#0d0887\"],[0.1111111111111111,\"#46039f\"],[0.2222222222222222,\"#7201a8\"],[0.3333333333333333,\"#9c179e\"],[0.4444444444444444,\"#bd3786\"],[0.5555555555555556,\"#d8576b\"],[0.6666666666666666,\"#ed7953\"],[0.7777777777777778,\"#fb9f3a\"],[0.8888888888888888,\"#fdca26\"],[1.0,\"#f0f921\"]]}],\"contourcarpet\":[{\"type\":\"contourcarpet\",\"colorbar\":{\"outlinewidth\":0,\"ticks\":\"\"}}],\"contour\":[{\"type\":\"contour\",\"colorbar\":{\"outlinewidth\":0,\"ticks\":\"\"},\"colorscale\":[[0.0,\"#0d0887\"],[0.1111111111111111,\"#46039f\"],[0.2222222222222222,\"#7201a8\"],[0.3333333333333333,\"#9c179e\"],[0.4444444444444444,\"#bd3786\"],[0.5555555555555556,\"#d8576b\"],[0.6666666666666666,\"#ed7953\"],[0.7777777777777778,\"#fb9f3a\"],[0.8888888888888888,\"#fdca26\"],[1.0,\"#f0f921\"]]}],\"surface\":[{\"type\":\"surface\",\"colorbar\":{\"outlinewidth\":0,\"ticks\":\"\"},\"colorscale\":[[0.0,\"#0d0887\"],[0.1111111111111111,\"#46039f\"],[0.2222222222222222,\"#7201a8\"],[0.3333333333333333,\"#9c179e\"],[0.4444444444444444,\"#bd3786\"],[0.5555555555555556,\"#d8576b\"],[0.6666666666666666,\"#ed7953\"],[0.7777777777777778,\"#fb9f3a\"],[0.8888888888888888,\"#fdca26\"],[1.0,\"#f0f921\"]]}],\"mesh3d\":[{\"type\":\"mesh3d\",\"colorbar\":{\"outlinewidth\":0,\"ticks\":\"\"}}],\"scatter\":[{\"fillpattern\":{\"fillmode\":\"overlay\",\"size\":10,\"solidity\":0.2},\"type\":\"scatter\"}],\"parcoords\":[{\"type\":\"parcoords\",\"line\":{\"colorbar\":{\"outlinewidth\":0,\"ticks\":\"\"}}}],\"scatterpolargl\":[{\"type\":\"scatterpolargl\",\"marker\":{\"colorbar\":{\"outlinewidth\":0,\"ticks\":\"\"}}}],\"bar\":[{\"error_x\":{\"color\":\"#2a3f5f\"},\"error_y\":{\"color\":\"#2a3f5f\"},\"marker\":{\"line\":{\"color\":\"#E5ECF6\",\"width\":0.5},\"pattern\":{\"fillmode\":\"overlay\",\"size\":10,\"solidity\":0.2}},\"type\":\"bar\"}],\"scattergeo\":[{\"type\":\"scattergeo\",\"marker\":{\"colorbar\":{\"outlinewidth\":0,\"ticks\":\"\"}}}],\"scatterpolar\":[{\"type\":\"scatterpolar\",\"marker\":{\"colorbar\":{\"outlinewidth\":0,\"ticks\":\"\"}}}],\"histogram\":[{\"marker\":{\"pattern\":{\"fillmode\":\"overlay\",\"size\":10,\"solidity\":0.2}},\"type\":\"histogram\"}],\"scattergl\":[{\"type\":\"scattergl\",\"marker\":{\"colorbar\":{\"outlinewidth\":0,\"ticks\":\"\"}}}],\"scatter3d\":[{\"type\":\"scatter3d\",\"line\":{\"colorbar\":{\"outlinewidth\":0,\"ticks\":\"\"}},\"marker\":{\"colorbar\":{\"outlinewidth\":0,\"ticks\":\"\"}}}],\"scattermapbox\":[{\"type\":\"scattermapbox\",\"marker\":{\"colorbar\":{\"outlinewidth\":0,\"ticks\":\"\"}}}],\"scatterternary\":[{\"type\":\"scatterternary\",\"marker\":{\"colorbar\":{\"outlinewidth\":0,\"ticks\":\"\"}}}],\"scattercarpet\":[{\"type\":\"scattercarpet\",\"marker\":{\"colorbar\":{\"outlinewidth\":0,\"ticks\":\"\"}}}],\"carpet\":[{\"aaxis\":{\"endlinecolor\":\"#2a3f5f\",\"gridcolor\":\"white\",\"linecolor\":\"white\",\"minorgridcolor\":\"white\",\"startlinecolor\":\"#2a3f5f\"},\"baxis\":{\"endlinecolor\":\"#2a3f5f\",\"gridcolor\":\"white\",\"linecolor\":\"white\",\"minorgridcolor\":\"white\",\"startlinecolor\":\"#2a3f5f\"},\"type\":\"carpet\"}],\"table\":[{\"cells\":{\"fill\":{\"color\":\"#EBF0F8\"},\"line\":{\"color\":\"white\"}},\"header\":{\"fill\":{\"color\":\"#C8D4E3\"},\"line\":{\"color\":\"white\"}},\"type\":\"table\"}],\"barpolar\":[{\"marker\":{\"line\":{\"color\":\"#E5ECF6\",\"width\":0.5},\"pattern\":{\"fillmode\":\"overlay\",\"size\":10,\"solidity\":0.2}},\"type\":\"barpolar\"}],\"pie\":[{\"automargin\":true,\"type\":\"pie\"}]},\"layout\":{\"autotypenumbers\":\"strict\",\"colorway\":[\"#636efa\",\"#EF553B\",\"#00cc96\",\"#ab63fa\",\"#FFA15A\",\"#19d3f3\",\"#FF6692\",\"#B6E880\",\"#FF97FF\",\"#FECB52\"],\"font\":{\"color\":\"#2a3f5f\"},\"hovermode\":\"closest\",\"hoverlabel\":{\"align\":\"left\"},\"paper_bgcolor\":\"white\",\"plot_bgcolor\":\"#E5ECF6\",\"polar\":{\"bgcolor\":\"#E5ECF6\",\"angularaxis\":{\"gridcolor\":\"white\",\"linecolor\":\"white\",\"ticks\":\"\"},\"radialaxis\":{\"gridcolor\":\"white\",\"linecolor\":\"white\",\"ticks\":\"\"}},\"ternary\":{\"bgcolor\":\"#E5ECF6\",\"aaxis\":{\"gridcolor\":\"white\",\"linecolor\":\"white\",\"ticks\":\"\"},\"baxis\":{\"gridcolor\":\"white\",\"linecolor\":\"white\",\"ticks\":\"\"},\"caxis\":{\"gridcolor\":\"white\",\"linecolor\":\"white\",\"ticks\":\"\"}},\"coloraxis\":{\"colorbar\":{\"outlinewidth\":0,\"ticks\":\"\"}},\"colorscale\":{\"sequential\":[[0.0,\"#0d0887\"],[0.1111111111111111,\"#46039f\"],[0.2222222222222222,\"#7201a8\"],[0.3333333333333333,\"#9c179e\"],[0.4444444444444444,\"#bd3786\"],[0.5555555555555556,\"#d8576b\"],[0.6666666666666666,\"#ed7953\"],[0.7777777777777778,\"#fb9f3a\"],[0.8888888888888888,\"#fdca26\"],[1.0,\"#f0f921\"]],\"sequentialminus\":[[0.0,\"#0d0887\"],[0.1111111111111111,\"#46039f\"],[0.2222222222222222,\"#7201a8\"],[0.3333333333333333,\"#9c179e\"],[0.4444444444444444,\"#bd3786\"],[0.5555555555555556,\"#d8576b\"],[0.6666666666666666,\"#ed7953\"],[0.7777777777777778,\"#fb9f3a\"],[0.8888888888888888,\"#fdca26\"],[1.0,\"#f0f921\"]],\"diverging\":[[0,\"#8e0152\"],[0.1,\"#c51b7d\"],[0.2,\"#de77ae\"],[0.3,\"#f1b6da\"],[0.4,\"#fde0ef\"],[0.5,\"#f7f7f7\"],[0.6,\"#e6f5d0\"],[0.7,\"#b8e186\"],[0.8,\"#7fbc41\"],[0.9,\"#4d9221\"],[1,\"#276419\"]]},\"xaxis\":{\"gridcolor\":\"white\",\"linecolor\":\"white\",\"ticks\":\"\",\"title\":{\"standoff\":15},\"zerolinecolor\":\"white\",\"automargin\":true,\"zerolinewidth\":2},\"yaxis\":{\"gridcolor\":\"white\",\"linecolor\":\"white\",\"ticks\":\"\",\"title\":{\"standoff\":15},\"zerolinecolor\":\"white\",\"automargin\":true,\"zerolinewidth\":2},\"scene\":{\"xaxis\":{\"backgroundcolor\":\"#E5ECF6\",\"gridcolor\":\"white\",\"linecolor\":\"white\",\"showbackground\":true,\"ticks\":\"\",\"zerolinecolor\":\"white\",\"gridwidth\":2},\"yaxis\":{\"backgroundcolor\":\"#E5ECF6\",\"gridcolor\":\"white\",\"linecolor\":\"white\",\"showbackground\":true,\"ticks\":\"\",\"zerolinecolor\":\"white\",\"gridwidth\":2},\"zaxis\":{\"backgroundcolor\":\"#E5ECF6\",\"gridcolor\":\"white\",\"linecolor\":\"white\",\"showbackground\":true,\"ticks\":\"\",\"zerolinecolor\":\"white\",\"gridwidth\":2}},\"shapedefaults\":{\"line\":{\"color\":\"#2a3f5f\"}},\"annotationdefaults\":{\"arrowcolor\":\"#2a3f5f\",\"arrowhead\":0,\"arrowwidth\":1},\"geo\":{\"bgcolor\":\"white\",\"landcolor\":\"#E5ECF6\",\"subunitcolor\":\"white\",\"showland\":true,\"showlakes\":true,\"lakecolor\":\"white\"},\"title\":{\"x\":0.05},\"mapbox\":{\"style\":\"light\"}}},\"xaxis\":{\"anchor\":\"y\",\"domain\":[0.0,1.0],\"title\":{\"text\":\"revenue\"}},\"yaxis\":{\"anchor\":\"x\",\"domain\":[0.0,0.7326],\"title\":{\"text\":\"count\"}},\"xaxis2\":{\"anchor\":\"y2\",\"domain\":[0.0,1.0],\"matches\":\"x\",\"showticklabels\":false,\"showgrid\":true},\"yaxis2\":{\"anchor\":\"x2\",\"domain\":[0.7426,1.0],\"matches\":\"y2\",\"showticklabels\":false,\"showline\":false,\"ticks\":\"\",\"showgrid\":false},\"legend\":{\"title\":{\"text\":\"ab_group\"},\"tracegroupgap\":0},\"title\":{\"text\":\"revenue_distribution\"},\"barmode\":\"relative\"},                        {\"responsive\": true}                    ).then(function(){\n",
       "                            \n",
       "var gd = document.getElementById('ab956e2e-fb58-462d-83c5-29bbe0f9e363');\n",
       "var x = new MutationObserver(function (mutations, observer) {{\n",
       "        var display = window.getComputedStyle(gd).display;\n",
       "        if (!display || display === 'none') {{\n",
       "            console.log([gd, 'removed!']);\n",
       "            Plotly.purge(gd);\n",
       "            observer.disconnect();\n",
       "        }}\n",
       "}});\n",
       "\n",
       "// Listen for the removal of the full notebook cells\n",
       "var notebookContainer = gd.closest('#notebook-container');\n",
       "if (notebookContainer) {{\n",
       "    x.observe(notebookContainer, {childList: true});\n",
       "}}\n",
       "\n",
       "// Listen for the clearing of the current output cell\n",
       "var outputEl = gd.closest('.output');\n",
       "if (outputEl) {{\n",
       "    x.observe(outputEl, {childList: true});\n",
       "}}\n",
       "\n",
       "                        })                };                });            </script>        </div>"
      ]
     },
     "metadata": {},
     "output_type": "display_data"
    }
   ],
   "source": [
    "fig = px.histogram(data[data['purchase'] == 1],\n",
    "                   x='revenue',\n",
    "                   color = 'ab_group',\n",
    "                   title='revenue_distribution',\n",
    "                   marginal = 'box',\n",
    "                   nbins = 50)\n",
    "fig.show()"
   ]
  },
  {
   "cell_type": "code",
   "execution_count": 25,
   "metadata": {},
   "outputs": [
    {
     "data": {
      "text/plain": [
       "(2.4723388038366e-32, 1.599590675565433e-22)"
      ]
     },
     "execution_count": 25,
     "metadata": {},
     "output_type": "execute_result"
    }
   ],
   "source": [
    "column = 'revenue'\n",
    "control_is_normal = is_normal_distr(control[control.purchase == 1].loc[:, column])\n",
    "treatment_is_normal = is_normal_distr(treatment[treatment.purchase == 1].loc[:, column])\n",
    "control_is_normal, treatment_is_normal"
   ]
  },
  {
   "cell_type": "markdown",
   "metadata": {},
   "source": [
    "Данное распределение не считаем нормальным"
   ]
  },
  {
   "cell_type": "code",
   "execution_count": 23,
   "metadata": {
    "scrolled": true
   },
   "outputs": [
    {
     "data": {
      "text/html": [
       "<div>\n",
       "<style scoped>\n",
       "    .dataframe tbody tr th:only-of-type {\n",
       "        vertical-align: middle;\n",
       "    }\n",
       "\n",
       "    .dataframe tbody tr th {\n",
       "        vertical-align: top;\n",
       "    }\n",
       "\n",
       "    .dataframe thead th {\n",
       "        text-align: right;\n",
       "    }\n",
       "</style>\n",
       "<table border=\"1\" class=\"dataframe\">\n",
       "  <thead>\n",
       "    <tr style=\"text-align: right;\">\n",
       "      <th></th>\n",
       "      <th>effect_size</th>\n",
       "      <th>alpha</th>\n",
       "      <th>beta</th>\n",
       "      <th>power</th>\n",
       "      <th>difference</th>\n",
       "      <th>nobs</th>\n",
       "    </tr>\n",
       "  </thead>\n",
       "  <tbody>\n",
       "    <tr>\n",
       "      <th>revenue</th>\n",
       "      <td>-0.097905</td>\n",
       "      <td>0.887196</td>\n",
       "      <td>0.063033</td>\n",
       "      <td>0.936967</td>\n",
       "      <td>-6.33635</td>\n",
       "      <td>490.0</td>\n",
       "    </tr>\n",
       "    <tr>\n",
       "      <th>perfect_way</th>\n",
       "      <td>-0.097905</td>\n",
       "      <td>0.050000</td>\n",
       "      <td>0.200000</td>\n",
       "      <td>0.800000</td>\n",
       "      <td>-6.33635</td>\n",
       "      <td>3277.0</td>\n",
       "    </tr>\n",
       "  </tbody>\n",
       "</table>\n",
       "</div>"
      ],
      "text/plain": [
       "             effect_size     alpha      beta     power  difference    nobs\n",
       "revenue        -0.097905  0.887196  0.063033  0.936967    -6.33635   490.0\n",
       "perfect_way    -0.097905  0.050000  0.200000  0.800000    -6.33635  3277.0"
      ]
     },
     "execution_count": 23,
     "metadata": {},
     "output_type": "execute_result"
    }
   ],
   "source": [
    "calc_continuous_effect(control[control.purchase == 1], \n",
    "                       treatment[treatment.purchase == 1],\n",
    "                       column='revenue', stat_test='mw')"
   ]
  },
  {
   "cell_type": "markdown",
   "metadata": {},
   "source": [
    "Альфа 0,88 - нет статзначимых различий. Недостаточное количество наблюдений<p>\n",
    "Нужно изменить формулировку гипотезы или выюрать другую метрику и провести новый тест"
   ]
  }
 ],
 "metadata": {
  "colab": {
   "provenance": []
  },
  "kernelspec": {
   "display_name": "Python 3 (ipykernel)",
   "language": "python",
   "name": "python3"
  },
  "language_info": {
   "codemirror_mode": {
    "name": "ipython",
    "version": 3
   },
   "file_extension": ".py",
   "mimetype": "text/x-python",
   "name": "python",
   "nbconvert_exporter": "python",
   "pygments_lexer": "ipython3",
   "version": "3.10.11"
  }
 },
 "nbformat": 4,
 "nbformat_minor": 1
}
